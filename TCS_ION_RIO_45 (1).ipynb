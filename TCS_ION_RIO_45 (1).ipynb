{
 "cells": [
  {
   "cell_type": "code",
   "execution_count": 1,
   "metadata": {
    "id": "3_217YwKBIv2"
   },
   "outputs": [],
   "source": [
    "import os\n",
    "import numpy as np\n",
    "import pandas as pd\n",
    "import matplotlib.pyplot as plt\n",
    "%matplotlib inline\n",
    "from collections import Counter"
   ]
  },
  {
   "cell_type": "code",
   "execution_count": 2,
   "metadata": {
    "colab": {
     "base_uri": "https://localhost:8080/",
     "height": 363
    },
    "id": "lEsngIc_E1xs",
    "outputId": "7da787e7-fb13-4ee2-94e8-d318c7a0ca96"
   },
   "outputs": [
    {
     "data": {
      "text/html": [
       "<div>\n",
       "<style scoped>\n",
       "    .dataframe tbody tr th:only-of-type {\n",
       "        vertical-align: middle;\n",
       "    }\n",
       "\n",
       "    .dataframe tbody tr th {\n",
       "        vertical-align: top;\n",
       "    }\n",
       "\n",
       "    .dataframe thead th {\n",
       "        text-align: right;\n",
       "    }\n",
       "</style>\n",
       "<table border=\"1\" class=\"dataframe\">\n",
       "  <thead>\n",
       "    <tr style=\"text-align: right;\">\n",
       "      <th></th>\n",
       "      <th>review</th>\n",
       "      <th>sentiment</th>\n",
       "    </tr>\n",
       "  </thead>\n",
       "  <tbody>\n",
       "    <tr>\n",
       "      <th>0</th>\n",
       "      <td>One of the other reviewers has mentioned that ...</td>\n",
       "      <td>positive</td>\n",
       "    </tr>\n",
       "    <tr>\n",
       "      <th>1</th>\n",
       "      <td>A wonderful little production. &lt;br /&gt;&lt;br /&gt;The...</td>\n",
       "      <td>positive</td>\n",
       "    </tr>\n",
       "    <tr>\n",
       "      <th>2</th>\n",
       "      <td>I thought this was a wonderful way to spend ti...</td>\n",
       "      <td>positive</td>\n",
       "    </tr>\n",
       "    <tr>\n",
       "      <th>3</th>\n",
       "      <td>Basically there's a family where a little boy ...</td>\n",
       "      <td>negative</td>\n",
       "    </tr>\n",
       "    <tr>\n",
       "      <th>4</th>\n",
       "      <td>Petter Mattei's \"Love in the Time of Money\" is...</td>\n",
       "      <td>positive</td>\n",
       "    </tr>\n",
       "    <tr>\n",
       "      <th>...</th>\n",
       "      <td>...</td>\n",
       "      <td>...</td>\n",
       "    </tr>\n",
       "    <tr>\n",
       "      <th>49995</th>\n",
       "      <td>I thought this movie did a down right good job...</td>\n",
       "      <td>positive</td>\n",
       "    </tr>\n",
       "    <tr>\n",
       "      <th>49996</th>\n",
       "      <td>Bad plot, bad dialogue, bad acting, idiotic di...</td>\n",
       "      <td>negative</td>\n",
       "    </tr>\n",
       "    <tr>\n",
       "      <th>49997</th>\n",
       "      <td>I am a Catholic taught in parochial elementary...</td>\n",
       "      <td>negative</td>\n",
       "    </tr>\n",
       "    <tr>\n",
       "      <th>49998</th>\n",
       "      <td>I'm going to have to disagree with the previou...</td>\n",
       "      <td>negative</td>\n",
       "    </tr>\n",
       "    <tr>\n",
       "      <th>49999</th>\n",
       "      <td>No one expects the Star Trek movies to be high...</td>\n",
       "      <td>negative</td>\n",
       "    </tr>\n",
       "  </tbody>\n",
       "</table>\n",
       "<p>50000 rows × 2 columns</p>\n",
       "</div>"
      ],
      "text/plain": [
       "                                                  review sentiment\n",
       "0      One of the other reviewers has mentioned that ...  positive\n",
       "1      A wonderful little production. <br /><br />The...  positive\n",
       "2      I thought this was a wonderful way to spend ti...  positive\n",
       "3      Basically there's a family where a little boy ...  negative\n",
       "4      Petter Mattei's \"Love in the Time of Money\" is...  positive\n",
       "...                                                  ...       ...\n",
       "49995  I thought this movie did a down right good job...  positive\n",
       "49996  Bad plot, bad dialogue, bad acting, idiotic di...  negative\n",
       "49997  I am a Catholic taught in parochial elementary...  negative\n",
       "49998  I'm going to have to disagree with the previou...  negative\n",
       "49999  No one expects the Star Trek movies to be high...  negative\n",
       "\n",
       "[50000 rows x 2 columns]"
      ]
     },
     "execution_count": 2,
     "metadata": {},
     "output_type": "execute_result"
    }
   ],
   "source": [
    "data=pd.read_csv(\"IMDB Dataset.csv\")\n",
    "data"
   ]
  },
  {
   "cell_type": "code",
   "execution_count": 3,
   "metadata": {
    "colab": {
     "base_uri": "https://localhost:8080/"
    },
    "id": "7YpvoGW-Izfl",
    "outputId": "76c9f016-d0e2-4f3c-8875-11eb3f87068a"
   },
   "outputs": [
    {
     "data": {
      "text/plain": [
       "array(['positive', 'negative'], dtype=object)"
      ]
     },
     "execution_count": 3,
     "metadata": {},
     "output_type": "execute_result"
    }
   ],
   "source": [
    "data[\"sentiment\"].unique()\n"
   ]
  },
  {
   "cell_type": "code",
   "execution_count": 4,
   "metadata": {
    "colab": {
     "base_uri": "https://localhost:8080/"
    },
    "id": "YPRCSnRoI6oA",
    "outputId": "9fa21518-f5c8-459e-bd0f-0b84c1316229"
   },
   "outputs": [
    {
     "name": "stdout",
     "output_type": "stream",
     "text": [
      "One of the other reviewers has mentioned that after watching just 1 Oz episode you'll be hooked. They are right, as this is exactly what happened with me.<br /><br />The first thing that struck me about Oz was its brutality and unflinching scenes of violence, which set in right from the word GO. Trust me, this is not a show for the faint hearted or timid. This show pulls no punches with regards to drugs, sex or violence. Its is hardcore, in the classic use of the word.<br /><br />It is called OZ as that is the nickname given to the Oswald Maximum Security State Penitentary. It focuses mainly on Emerald City, an experimental section of the prison where all the cells have glass fronts and face inwards, so privacy is not high on the agenda. Em City is home to many..Aryans, Muslims, gangstas, Latinos, Christians, Italians, Irish and more....so scuffles, death stares, dodgy dealings and shady agreements are never far away.<br /><br />I would say the main appeal of the show is due to the fact that it goes where other shows wouldn't dare. Forget pretty pictures painted for mainstream audiences, forget charm, forget romance...OZ doesn't mess around. The first episode I ever saw struck me as so nasty it was surreal, I couldn't say I was ready for it, but as I watched more, I developed a taste for Oz, and got accustomed to the high levels of graphic violence. Not just violence, but injustice (crooked guards who'll be sold out for a nickel, inmates who'll kill on order and get away with it, well mannered, middle class inmates being turned into prison bitches due to their lack of street skills or prison experience) Watching Oz, you may become comfortable with what is uncomfortable viewing....thats if you can get in touch with your darker side.\n",
      "\n",
      "positive\n"
     ]
    },
    {
     "data": {
      "text/plain": [
       "1761"
      ]
     },
     "execution_count": 4,
     "metadata": {},
     "output_type": "execute_result"
    }
   ],
   "source": [
    "print(data[\"review\"][0])\n",
    "print()\n",
    "print(data[\"sentiment\"][0])\n",
    "len(data[\"review\"][0])"
   ]
  },
  {
   "cell_type": "code",
   "execution_count": 5,
   "metadata": {
    "id": "5T26TbzXJuGH"
   },
   "outputs": [],
   "source": [
    "#Preprocessing the text\n",
    "import nltk\n",
    "import string\n",
    "from nltk.tokenize import word_tokenize\n",
    "from nltk.stem.snowball import SnowballStemmer\n",
    "from nltk.stem import WordNetLemmatizer\n",
    "from nltk.corpus import stopwords\n",
    "from nltk.corpus import wordnet as wn\n",
    "from nltk import wordpunct_tokenize\n",
    "from nltk import WordNetLemmatizer\n",
    "from nltk import sent_tokenize\n",
    "from nltk import pos_tag"
   ]
  },
  {
   "cell_type": "code",
   "execution_count": 6,
   "metadata": {
    "id": "Fc17HJyEJ0Ee"
   },
   "outputs": [],
   "source": [
    "# REMOVING PUNCTUATION\n",
    "from string import punctuation\n",
    "data[\"review\"]=data['review'].str.lower() "
   ]
  },
  {
   "cell_type": "code",
   "execution_count": 7,
   "metadata": {
    "id": "q4uvR_6uJ6Sq"
   },
   "outputs": [],
   "source": [
    "table = str.maketrans('', '', string.punctuation)\n",
    "for i in range(len(data['review'])):\n",
    "    data[\"review\"][i] = data[\"review\"][i].replace(\"<br />\",\"\").translate(table)"
   ]
  },
  {
   "cell_type": "code",
   "execution_count": 8,
   "metadata": {
    "colab": {
     "base_uri": "https://localhost:8080/",
     "height": 139
    },
    "id": "YPzHiaVJKUVc",
    "outputId": "6bc3541b-7755-4dda-b4c0-aa648d9a7fba"
   },
   "outputs": [
    {
     "data": {
      "text/plain": [
       "'one of the other reviewers has mentioned that after watching just 1 oz episode youll be hooked they are right as this is exactly what happened with methe first thing that struck me about oz was its brutality and unflinching scenes of violence which set in right from the word go trust me this is not a show for the faint hearted or timid this show pulls no punches with regards to drugs sex or violence its is hardcore in the classic use of the wordit is called oz as that is the nickname given to the oswald maximum security state penitentary it focuses mainly on emerald city an experimental section of the prison where all the cells have glass fronts and face inwards so privacy is not high on the agenda em city is home to manyaryans muslims gangstas latinos christians italians irish and moreso scuffles death stares dodgy dealings and shady agreements are never far awayi would say the main appeal of the show is due to the fact that it goes where other shows wouldnt dare forget pretty pictures painted for mainstream audiences forget charm forget romanceoz doesnt mess around the first episode i ever saw struck me as so nasty it was surreal i couldnt say i was ready for it but as i watched more i developed a taste for oz and got accustomed to the high levels of graphic violence not just violence but injustice crooked guards wholl be sold out for a nickel inmates wholl kill on order and get away with it well mannered middle class inmates being turned into prison bitches due to their lack of street skills or prison experience watching oz you may become comfortable with what is uncomfortable viewingthats if you can get in touch with your darker side'"
      ]
     },
     "execution_count": 8,
     "metadata": {},
     "output_type": "execute_result"
    }
   ],
   "source": [
    "data[\"review\"][0]"
   ]
  },
  {
   "cell_type": "code",
   "execution_count": 9,
   "metadata": {
    "colab": {
     "base_uri": "https://localhost:8080/"
    },
    "id": "3U2iP0gcQSrr",
    "outputId": "3e81a65a-689a-4d96-c1ac-d278e75ee62f"
   },
   "outputs": [
    {
     "name": "stdout",
     "output_type": "stream",
     "text": [
      "Collecting inflect\n",
      "  Downloading inflect-5.6.0-py3-none-any.whl (33 kB)\n",
      "Installing collected packages: inflect\n",
      "Successfully installed inflect-5.6.0\n",
      "Note: you may need to restart the kernel to use updated packages.\n"
     ]
    }
   ],
   "source": [
    "pip install inflect"
   ]
  },
  {
   "cell_type": "code",
   "execution_count": 10,
   "metadata": {
    "id": "Do1gjnq_SK3r"
   },
   "outputs": [],
   "source": [
    "import inflect\n",
    "k = inflect.engine()\n",
    "for i in range(len(data['review'])):\n",
    "    data[\"review\"][i] =' '.join([str(k.number_to_words(((x)))) if x.isnumeric() else x for x in data[\"review\"][i].split()])"
   ]
  },
  {
   "cell_type": "code",
   "execution_count": 11,
   "metadata": {
    "colab": {
     "base_uri": "https://localhost:8080/",
     "height": 139
    },
    "id": "lmM7Z8AkSpFQ",
    "outputId": "4ac4a451-9fb6-444a-cd39-03b354f9ceb7"
   },
   "outputs": [
    {
     "data": {
      "text/plain": [
       "'one of the other reviewers has mentioned that after watching just one oz episode youll be hooked they are right as this is exactly what happened with methe first thing that struck me about oz was its brutality and unflinching scenes of violence which set in right from the word go trust me this is not a show for the faint hearted or timid this show pulls no punches with regards to drugs sex or violence its is hardcore in the classic use of the wordit is called oz as that is the nickname given to the oswald maximum security state penitentary it focuses mainly on emerald city an experimental section of the prison where all the cells have glass fronts and face inwards so privacy is not high on the agenda em city is home to manyaryans muslims gangstas latinos christians italians irish and moreso scuffles death stares dodgy dealings and shady agreements are never far awayi would say the main appeal of the show is due to the fact that it goes where other shows wouldnt dare forget pretty pictures painted for mainstream audiences forget charm forget romanceoz doesnt mess around the first episode i ever saw struck me as so nasty it was surreal i couldnt say i was ready for it but as i watched more i developed a taste for oz and got accustomed to the high levels of graphic violence not just violence but injustice crooked guards wholl be sold out for a nickel inmates wholl kill on order and get away with it well mannered middle class inmates being turned into prison bitches due to their lack of street skills or prison experience watching oz you may become comfortable with what is uncomfortable viewingthats if you can get in touch with your darker side'"
      ]
     },
     "execution_count": 11,
     "metadata": {},
     "output_type": "execute_result"
    }
   ],
   "source": [
    "data[\"review\"][0]"
   ]
  },
  {
   "cell_type": "code",
   "execution_count": 12,
   "metadata": {
    "colab": {
     "base_uri": "https://localhost:8080/"
    },
    "id": "hNbqMmIZSq9G",
    "outputId": "ed3d59ee-232b-4ffa-df73-4eae591962da"
   },
   "outputs": [
    {
     "name": "stderr",
     "output_type": "stream",
     "text": [
      "[nltk_data] Downloading package stopwords to\n",
      "[nltk_data]     C:\\Users\\sakovv\\AppData\\Roaming\\nltk_data...\n"
     ]
    },
    {
     "name": "stdout",
     "output_type": "stream",
     "text": [
      "{'didn', 'me', 'so', 'because', 'here', 'such', 'this', 'my', 'further', 'whom', 'd', 'what', 'against', 'below', 'when', 'isn', 'of', \"wouldn't\", 'it', 'between', 'are', 'other', 'itself', 'will', 'how', 'did', 'just', 'll', 'had', 'they', 'if', 'which', 'by', 'myself', 'having', 'wasn', 'ourselves', 'being', 'wouldn', \"won't\", 'down', 'most', 'its', 'm', 'am', 's', \"doesn't\", 'as', 'while', \"hadn't\", \"hasn't\", 'and', 'themselves', 'he', 'until', 'more', \"don't\", 'our', 'have', \"mustn't\", 'all', 'to', 'under', 'should', 'i', 'during', 'doing', 'than', 'shouldn', 'ours', 'hasn', 'or', \"shan't\", 'haven', 'same', 'there', 'she', 'over', 'then', 'him', 'again', 'mustn', 'for', 't', 'mightn', 'o', 'your', \"that'll\", 'herself', 'doesn', 'each', \"shouldn't\", 'his', 'we', 'an', 'can', 'up', \"needn't\", 'them', 'be', 'nor', 'both', 'ain', 'own', 'hers', 'in', 'only', 'hadn', \"haven't\", 'shan', 'now', 'do', 'too', 'is', 'were', 'the', 're', \"aren't\", \"it's\", 'why', \"you'd\", 'very', 'was', 'any', \"isn't\", 'yours', 'has', 'but', 'after', 'where', \"you're\", 'himself', 'from', 'before', 'needn', 'does', \"you'll\", 'some', 'out', \"weren't\", 'that', \"didn't\", 'yourself', 'theirs', 'these', 'couldn', 'at', 'no', 'aren', 'a', \"you've\", 'above', 'ma', 'few', 'you', \"she's\", \"couldn't\", 'don', 'been', 'yourselves', \"mightn't\", 'with', 'her', 'off', 'who', 'their', 'through', 'y', \"should've\", 've', 'once', 'on', 'those', 'not', 'into', \"wasn't\", 'won', 'about', 'weren'}\n"
     ]
    },
    {
     "name": "stderr",
     "output_type": "stream",
     "text": [
      "[nltk_data]   Unzipping corpora\\stopwords.zip.\n"
     ]
    }
   ],
   "source": [
    "nltk.download('stopwords')\n",
    "stop_words = set(stopwords.words('english'))\n",
    "print(stop_words)"
   ]
  },
  {
   "cell_type": "code",
   "execution_count": 13,
   "metadata": {
    "colab": {
     "base_uri": "https://localhost:8080/"
    },
    "id": "0URRvcHLSt5Z",
    "outputId": "76183319-240e-48ed-c3ff-d5ea316025ef"
   },
   "outputs": [
    {
     "name": "stdout",
     "output_type": "stream",
     "text": [
      "Counter({642: 90, 664: 89, 640: 89, 682: 82, 665: 81, 647: 81, 689: 80, 649: 80, 626: 79, 644: 78, 662: 77, 676: 77, 686: 76, 724: 76, 641: 76, 685: 76, 712: 75, 648: 74, 633: 74, 645: 74, 729: 73, 657: 73, 624: 73, 637: 72, 723: 72, 714: 72, 659: 71, 625: 71, 684: 71, 701: 71, 710: 71, 704: 71, 667: 71, 629: 71, 687: 71, 692: 70, 639: 70, 691: 70, 653: 70, 616: 69, 700: 69, 628: 69, 635: 69, 722: 69, 630: 69, 661: 68, 681: 68, 655: 68, 715: 67, 703: 67, 683: 67, 737: 67, 615: 67, 680: 67, 688: 67, 694: 67, 679: 67, 651: 66, 718: 66, 646: 66, 656: 66, 717: 65, 666: 65, 652: 65, 784: 65, 781: 65, 719: 65, 663: 65, 634: 65, 698: 65, 658: 65, 753: 64, 690: 64, 668: 64, 782: 64, 669: 64, 725: 64, 632: 64, 697: 64, 705: 64, 732: 63, 643: 63, 707: 63, 728: 62, 720: 62, 672: 62, 709: 62, 636: 62, 623: 62, 773: 61, 713: 61, 660: 61, 677: 61, 693: 61, 673: 61, 622: 61, 650: 61, 638: 60, 726: 59, 631: 59, 671: 59, 738: 58, 785: 58, 721: 58, 754: 58, 706: 58, 699: 58, 731: 57, 674: 57, 670: 57, 761: 57, 747: 57, 750: 57, 787: 57, 767: 57, 768: 56, 614: 56, 695: 56, 654: 56, 696: 56, 612: 55, 762: 55, 702: 55, 727: 55, 627: 55, 608: 55, 802: 55, 765: 54, 604: 54, 742: 54, 756: 54, 764: 54, 839: 54, 748: 54, 733: 53, 763: 53, 716: 53, 739: 53, 730: 52, 780: 52, 866: 52, 758: 52, 711: 52, 760: 52, 799: 51, 882: 51, 755: 51, 796: 51, 845: 51, 618: 51, 610: 51, 791: 51, 675: 50, 619: 50, 771: 50, 617: 50, 775: 50, 776: 50, 857: 50, 886: 50, 786: 50, 808: 50, 736: 49, 743: 49, 844: 49, 740: 49, 620: 49, 792: 49, 794: 49, 809: 49, 815: 49, 772: 49, 606: 48, 678: 48, 822: 48, 793: 48, 826: 48, 783: 48, 805: 48, 613: 48, 820: 48, 788: 48, 858: 47, 741: 47, 854: 47, 734: 47, 735: 47, 621: 47, 766: 47, 851: 47, 779: 47, 777: 47, 818: 47, 744: 47, 746: 46, 817: 46, 895: 46, 827: 46, 708: 46, 816: 46, 813: 46, 751: 46, 847: 46, 922: 46, 607: 46, 830: 46, 850: 46, 774: 45, 749: 45, 819: 45, 752: 45, 605: 45, 603: 45, 942: 45, 601: 45, 801: 45, 928: 44, 841: 44, 759: 44, 906: 44, 769: 44, 902: 44, 795: 44, 594: 44, 600: 44, 789: 43, 770: 43, 757: 43, 938: 43, 881: 43, 814: 43, 609: 43, 832: 43, 835: 43, 825: 43, 778: 42, 959: 42, 595: 42, 970: 42, 877: 42, 862: 42, 838: 42, 798: 42, 811: 42, 870: 42, 966: 42, 823: 42, 905: 42, 898: 41, 911: 41, 899: 41, 978: 41, 867: 41, 849: 41, 891: 41, 875: 41, 745: 41, 896: 40, 904: 40, 939: 40, 887: 40, 871: 40, 884: 40, 962: 40, 596: 40, 903: 40, 1065: 40, 879: 40, 956: 40, 598: 40, 979: 40, 958: 40, 831: 40, 878: 40, 950: 40, 885: 40, 790: 39, 924: 39, 1029: 39, 1007: 39, 893: 39, 812: 39, 843: 39, 836: 39, 915: 39, 806: 39, 804: 39, 824: 39, 960: 39, 955: 38, 1040: 38, 589: 38, 864: 38, 846: 38, 852: 38, 860: 38, 582: 38, 856: 38, 573: 38, 579: 38, 984: 38, 807: 37, 874: 37, 910: 37, 581: 37, 892: 37, 1004: 37, 872: 37, 994: 37, 880: 37, 897: 37, 948: 37, 918: 37, 890: 37, 803: 37, 913: 37, 912: 37, 921: 37, 797: 37, 869: 37, 800: 36, 810: 36, 900: 36, 1037: 36, 1043: 36, 987: 36, 863: 36, 593: 36, 1076: 36, 971: 36, 1060: 36, 855: 36, 925: 36, 883: 36, 1012: 36, 876: 35, 923: 35, 957: 35, 1079: 35, 861: 35, 909: 35, 859: 35, 1025: 35, 934: 35, 848: 35, 567: 35, 1162: 35, 842: 35, 611: 35, 1016: 35, 868: 34, 1137: 34, 583: 34, 951: 34, 834: 34, 985: 34, 577: 34, 992: 34, 894: 34, 889: 34, 1118: 34, 1038: 34, 993: 34, 837: 34, 968: 34, 919: 34, 829: 34, 1042: 34, 865: 34, 1134: 34, 965: 34, 967: 34, 933: 34, 1021: 34, 997: 34, 940: 34, 964: 34, 585: 33, 576: 33, 1094: 33, 975: 33, 1092: 33, 1058: 33, 888: 33, 1146: 33, 1127: 33, 840: 33, 954: 33, 1183: 33, 1093: 33, 995: 33, 1041: 33, 821: 33, 560: 33, 1107: 33, 602: 33, 963: 33, 1024: 33, 833: 32, 1005: 32, 1062: 32, 914: 32, 828: 32, 1047: 32, 947: 32, 1036: 32, 1066: 32, 946: 32, 587: 32, 564: 32, 873: 32, 1086: 32, 982: 32, 944: 32, 908: 32, 952: 31, 1010: 31, 927: 31, 1003: 31, 980: 31, 1244: 31, 1123: 31, 1009: 31, 953: 31, 973: 31, 568: 31, 504: 31, 566: 31, 969: 31, 917: 31, 926: 31, 941: 31, 1075: 30, 1088: 30, 542: 30, 1017: 30, 1000: 30, 528: 30, 1102: 30, 1053: 30, 976: 30, 339: 30, 1050: 30, 1001: 30, 1018: 30, 1293: 30, 929: 30, 999: 30, 1260: 30, 1085: 30, 932: 30, 592: 30, 930: 30, 309: 30, 1015: 30, 901: 29, 1152: 29, 562: 29, 1026: 29, 1077: 29, 1138: 29, 1002: 29, 1111: 29, 1228: 29, 936: 28, 1133: 28, 988: 28, 1074: 28, 1033: 28, 590: 28, 1225: 28, 990: 28, 1098: 28, 945: 28, 572: 28, 584: 28, 501: 28, 570: 28, 586: 28, 998: 28, 440: 28, 493: 28, 1030: 28, 1087: 28, 578: 28, 1329: 28, 544: 27, 1034: 27, 466: 27, 565: 27, 537: 27, 559: 27, 561: 27, 1028: 27, 315: 27, 478: 27, 1022: 27, 1095: 27, 1011: 27, 961: 27, 972: 27, 853: 27, 1120: 27, 974: 27, 588: 27, 311: 27, 986: 27, 1080: 27, 1014: 27, 920: 27, 1063: 27, 575: 27, 1130: 27, 508: 27, 340: 26, 1013: 26, 991: 26, 499: 26, 1334: 26, 1213: 26, 949: 26, 907: 26, 346: 26, 1135: 26, 555: 26, 1091: 26, 558: 26, 476: 26, 549: 26, 1142: 26, 1035: 26, 983: 26, 1124: 26, 597: 26, 1300: 26, 1150: 26, 510: 26, 1064: 26, 319: 26, 1151: 26, 943: 26, 1108: 26, 1031: 26, 552: 26, 1019: 25, 374: 25, 428: 25, 308: 25, 1179: 25, 1070: 25, 1245: 25, 1143: 25, 1192: 25, 350: 25, 264: 25, 527: 25, 1139: 25, 1318: 25, 463: 25, 977: 25, 1174: 25, 1241: 25, 512: 25, 1071: 25, 1401: 25, 1271: 25, 574: 25, 1096: 25, 1166: 25, 1106: 25, 530: 25, 1122: 25, 1100: 25, 1136: 25, 599: 25, 1069: 25, 1109: 25, 467: 25, 989: 25, 519: 24, 1265: 24, 334: 24, 1357: 24, 937: 24, 1097: 24, 1173: 24, 1243: 24, 446: 24, 1084: 24, 1369: 24, 1156: 24, 1068: 24, 1023: 24, 1345: 24, 531: 24, 1114: 24, 1039: 24, 536: 24, 1073: 24, 1182: 24, 931: 24, 1185: 24, 1105: 24, 1217: 24, 1044: 24, 1242: 24, 1330: 24, 1078: 24, 543: 24, 1101: 24, 563: 24, 1144: 24, 1049: 24, 1220: 24, 1072: 24, 591: 24, 1169: 24, 1532: 24, 1121: 24, 1218: 24, 1276: 24, 1206: 24, 1227: 24, 1055: 24, 1056: 24, 1226: 23, 1157: 23, 916: 23, 331: 23, 554: 23, 1027: 23, 404: 23, 1194: 23, 1195: 23, 1189: 23, 249: 23, 1170: 23, 1159: 23, 515: 23, 1283: 23, 1230: 23, 408: 23, 1207: 23, 477: 23, 1083: 23, 436: 23, 317: 23, 1421: 23, 1103: 23, 1132: 23, 1140: 23, 935: 23, 289: 23, 580: 23, 569: 23, 539: 23, 1287: 23, 470: 23, 1145: 23, 268: 22, 439: 22, 1104: 22, 1172: 22, 1081: 22, 265: 22, 356: 22, 382: 22, 1278: 22, 287: 22, 1184: 22, 1129: 22, 1201: 22, 529: 22, 550: 22, 1317: 22, 525: 22, 1167: 22, 307: 22, 1008: 22, 1435: 22, 533: 22, 1032: 22, 332: 22, 1577: 22, 517: 22, 553: 22, 411: 22, 1163: 22, 1051: 22, 260: 22, 524: 22, 1165: 22, 1343: 22, 1304: 22, 285: 22, 1312: 22, 1147: 22, 238: 22, 377: 22, 546: 22, 1325: 22, 290: 22, 1191: 22, 1148: 22, 403: 22, 1378: 22, 540: 22, 571: 22, 1057: 22, 414: 22, 253: 22, 1110: 22, 236: 22, 231: 22, 1234: 21, 1210: 21, 1089: 21, 335: 21, 1214: 21, 276: 21, 360: 21, 370: 21, 556: 21, 1067: 21, 1221: 21, 278: 21, 1403: 21, 343: 21, 361: 21, 1203: 21, 1292: 21, 1149: 21, 1460: 21, 409: 21, 1482: 21, 1332: 21, 1196: 21, 1561: 21, 1153: 21, 1261: 21, 1181: 21, 372: 21, 294: 21, 1315: 21, 426: 21, 557: 21, 534: 21, 1020: 21, 398: 21, 1059: 21, 1200: 21, 1197: 21, 421: 21, 1254: 21, 484: 21, 513: 21, 451: 21, 506: 21, 1158: 21, 1119: 21, 389: 21, 996: 21, 1266: 21, 1177: 21, 1115: 21, 1112: 21, 248: 21, 357: 21, 384: 21, 479: 20, 1425: 20, 275: 20, 1277: 20, 1141: 20, 1006: 20, 486: 20, 269: 20, 297: 20, 301: 20, 387: 20, 1178: 20, 1298: 20, 1131: 20, 1256: 20, 1250: 20, 407: 20, 548: 20, 1367: 20, 491: 20, 1314: 20, 273: 20, 1171: 20, 425: 20, 1205: 20, 1570: 20, 462: 20, 1286: 20, 1125: 20, 417: 20, 314: 20, 507: 20, 279: 20, 1240: 20, 336: 20, 1273: 20, 1248: 20, 1236: 20, 1487: 20, 427: 19, 1126: 19, 448: 19, 392: 19, 401: 19, 1310: 19, 281: 19, 1446: 19, 1560: 19, 352: 19, 1045: 19, 452: 19, 1473: 19, 1331: 19, 1279: 19, 303: 19, 1419: 19, 1347: 19, 547: 19, 505: 19, 523: 19, 1468: 19, 1396: 19, 1180: 19, 1717: 19, 532: 19, 472: 19, 1595: 19, 298: 19, 326: 19, 475: 19, 1160: 19, 274: 19, 1412: 19, 1267: 19, 393: 19, 1061: 19, 1328: 19, 503: 19, 500: 19, 526: 19, 1309: 19, 1424: 19, 300: 19, 242: 19, 358: 19, 1272: 19, 1237: 18, 1255: 18, 1263: 18, 1464: 18, 1616: 18, 1724: 18, 1202: 18, 495: 18, 469: 18, 1046: 18, 318: 18, 267: 18, 435: 18, 353: 18, 347: 18, 419: 18, 1285: 18, 1155: 18, 257: 18, 1322: 18, 1444: 18, 416: 18, 333: 18, 363: 18, 1366: 18, 1488: 18, 262: 18, 1475: 18, 211: 18, 271: 18, 1264: 18, 541: 18, 1284: 18, 359: 18, 224: 18, 240: 18, 338: 18, 1190: 18, 304: 18, 365: 18, 1113: 18, 1457: 18, 1491: 18, 1252: 18, 415: 18, 1471: 18, 255: 18, 349: 18, 214: 18, 1209: 18, 1558: 18, 454: 18, 518: 18, 395: 18, 514: 18, 1408: 18, 283: 18, 337: 18, 1302: 18, 1690: 18, 1048: 18, 1246: 18, 1176: 18, 391: 18, 237: 18, 424: 18, 1477: 18, 1128: 18, 1358: 18, 1519: 18, 1268: 18, 1193: 17, 383: 17, 1372: 17, 1154: 17, 535: 17, 434: 17, 299: 17, 1168: 17, 1650: 17, 1235: 17, 1781: 17, 1282: 17, 1280: 17, 497: 17, 1215: 17, 261: 17, 327: 17, 230: 17, 256: 17, 459: 17, 410: 17, 1447: 17, 1262: 17, 1426: 17, 1380: 17, 1251: 17, 413: 17, 1508: 17, 1099: 17, 485: 17, 1451: 17, 270: 17, 400: 17, 1493: 17, 321: 17, 1232: 17, 371: 17, 460: 17, 433: 17, 1363: 17, 1476: 17, 492: 17, 432: 17, 1511: 17, 1691: 17, 380: 17, 1499: 17, 362: 17, 1354: 17, 1698: 17, 1376: 17, 1319: 17, 442: 17, 312: 17, 305: 17, 293: 17, 1450: 17, 1307: 17, 1305: 17, 1384: 17, 1116: 17, 320: 17, 481: 17, 444: 17, 1350: 17, 355: 17, 1291: 17, 1485: 17, 1198: 17, 511: 17, 1362: 17, 329: 17, 258: 16, 1649: 16, 1502: 16, 1574: 16, 1761: 16, 1520: 16, 1413: 16, 522: 16, 1208: 16, 324: 16, 1489: 16, 1554: 16, 1429: 16, 1239: 16, 1486: 16, 228: 16, 244: 16, 455: 16, 310: 16, 241: 16, 399: 16, 325: 16, 1494: 16, 502: 16, 1423: 16, 1553: 16, 375: 16, 1323: 16, 1434: 16, 1591: 16, 390: 16, 1628: 16, 1335: 16, 1052: 16, 461: 16, 328: 16, 291: 16, 234: 16, 386: 16, 313: 16, 480: 16, 545: 16, 1301: 16, 330: 16, 302: 16, 394: 16, 1090: 16, 1568: 16, 438: 16, 1641: 16, 521: 16, 1187: 16, 1497: 16, 1199: 16, 1509: 16, 1275: 16, 1054: 16, 1288: 16, 1161: 16, 1320: 16, 450: 16, 473: 16, 458: 16, 322: 16, 1269: 16, 498: 16, 494: 16, 1297: 16, 245: 16, 1231: 16, 1326: 16, 1867: 16, 1316: 16, 1678: 16, 1667: 15, 1614: 15, 1223: 15, 1349: 15, 1584: 15, 1517: 15, 345: 15, 1417: 15, 2469: 15, 1422: 15, 1458: 15, 1355: 15, 348: 15, 1175: 15, 1505: 15, 1515: 15, 1342: 15, 1375: 15, 1222: 15, 453: 15, 235: 15, 981: 15, 1617: 15, 402: 15, 378: 15, 465: 15, 1257: 15, 445: 15, 1516: 15, 1238: 15, 1559: 15, 1388: 15, 385: 15, 254: 15, 1605: 15, 474: 15, 1344: 15, 1652: 15, 1551: 15, 1333: 15, 1472: 15, 1381: 15, 1619: 15, 1341: 15, 1526: 15, 447: 15, 1290: 15, 1685: 15, 1281: 15, 1296: 15, 1569: 15, 1849: 15, 1374: 15, 233: 15, 1339: 15, 1706: 15, 259: 15, 277: 15, 1573: 15, 405: 15, 1431: 15, 1253: 15, 1430: 15, 1233: 15, 1313: 15, 295: 15, 457: 15, 1541: 15, 2172: 15, 1337: 15, 456: 15, 1500: 15, 418: 15, 1270: 15, 381: 15, 1391: 15, 1660: 15, 1164: 15, 1889: 15, 1590: 15, 1733: 15, 2114: 14, 1543: 14, 1352: 14, 1599: 14, 1567: 14, 1294: 14, 1289: 14, 468: 14, 1546: 14, 1884: 14, 1224: 14, 396: 14, 1212: 14, 441: 14, 1219: 14, 1898: 14, 1395: 14, 423: 14, 1694: 14, 1594: 14, 1618: 14, 232: 14, 397: 14, 367: 14, 266: 14, 1548: 14, 516: 14, 1410: 14, 1773: 14, 1657: 14, 1802: 14, 551: 14, 1082: 14, 1496: 14, 1977: 14, 1756: 14, 488: 14, 1361: 14, 520: 14, 1576: 14, 1400: 14, 286: 14, 252: 14, 1637: 14, 1498: 14, 1371: 14, 229: 14, 243: 14, 464: 14, 1348: 14, 1216: 14, 1470: 14, 1186: 14, 1229: 14, 284: 14, 288: 14, 1601: 14, 1604: 14, 1406: 14, 1308: 14, 1353: 14, 1859: 14, 373: 14, 323: 14, 1816: 14, 1443: 14, 1211: 14, 272: 14, 429: 14, 368: 14, 1448: 14, 1524: 14, 1415: 14, 1536: 14, 1785: 14, 1409: 14, 247: 14, 1351: 14, 1562: 14, 1659: 14, 251: 14, 342: 14, 1370: 14, 1453: 14, 1311: 13, 1449: 13, 1896: 13, 1418: 13, 1666: 13, 1611: 13, 482: 13, 1359: 13, 1539: 13, 1642: 13, 420: 13, 316: 13, 1436: 13, 1465: 13, 1306: 13, 1632: 13, 1299: 13, 1647: 13, 1672: 13, 341: 13, 1356: 13, 1726: 13, 1438: 13, 239: 13, 422: 13, 1479: 13, 1259: 13, 1676: 13, 1399: 13, 1627: 13, 1688: 13, 1398: 13, 1420: 13, 1360: 13, 1544: 13, 1749: 13, 1522: 13, 1405: 13, 1661: 13, 1533: 13, 1609: 13, 538: 13, 1608: 13, 1480: 13, 2217: 13, 1600: 13, 1757: 13, 1492: 13, 509: 13, 1566: 13, 1555: 13, 1469: 13, 1635: 13, 1428: 13, 1247: 13, 1709: 13, 1581: 13, 1976: 13, 1394: 13, 2074: 13, 1529: 13, 2127: 13, 1693: 13, 471: 13, 2048: 13, 1804: 13, 1891: 13, 1523: 13, 1327: 13, 1393: 13, 1373: 13, 1549: 13, 1663: 13, 1842: 13, 1725: 13, 1545: 13, 1648: 13, 1383: 13, 1763: 13, 1461: 13, 1882: 13, 354: 13, 1623: 13, 1338: 13, 246: 13, 1483: 13, 489: 13, 1390: 13, 369: 13, 490: 13, 1930: 12, 1433: 12, 2069: 12, 1382: 12, 1947: 12, 1530: 12, 1922: 12, 1346: 12, 1958: 12, 1710: 12, 483: 12, 1656: 12, 227: 12, 1504: 12, 1441: 12, 1336: 12, 1795: 12, 1490: 12, 1787: 12, 388: 12, 1368: 12, 1835: 12, 406: 12, 1784: 12, 1340: 12, 1791: 12, 1890: 12, 1645: 12, 1934: 12, 1442: 12, 1792: 12, 1459: 12, 1818: 12, 1821: 12, 1621: 12, 210: 12, 282: 12, 1527: 12, 1937: 12, 1771: 12, 1865: 12, 1389: 12, 1777: 12, 1564: 12, 437: 12, 1578: 12, 1675: 12, 292: 12, 1824: 12, 1506: 12, 1258: 12, 1797: 12, 2154: 12, 1819: 12, 222: 12, 1572: 12, 1503: 12, 1525: 12, 1807: 12, 1324: 12, 1838: 12, 431: 12, 1834: 12, 1664: 11, 1624: 11, 2187: 11, 1466: 11, 430: 11, 280: 11, 1968: 11, 1827: 11, 1377: 11, 1774: 11, 205: 11, 1907: 11, 1615: 11, 1713: 11, 1874: 11, 1427: 11, 1903: 11, 1402: 11, 1630: 11, 1727: 11, 1531: 11, 1696: 11, 1386: 11, 1905: 11, 1900: 11, 1606: 11, 344: 11, 1788: 11, 1414: 11, 1432: 11, 1949: 11, 2079: 11, 1521: 11, 1909: 11, 1708: 11, 250: 11, 1829: 11, 1385: 11, 1776: 11, 1518: 11, 1916: 11, 1811: 11, 1537: 11, 1878: 11, 1936: 11, 1801: 11, 212: 11, 1775: 11, 1822: 11, 218: 11, 1996: 11, 1639: 11, 1188: 11, 1750: 11, 1737: 11, 1117: 11, 1767: 11, 2097: 11, 1860: 11, 1602: 11, 1764: 11, 1587: 11, 351: 11, 2050: 11, 1586: 11, 1812: 11, 1392: 11, 1671: 11, 1769: 11, 1697: 11, 1510: 11, 1908: 11, 1843: 11, 1806: 11, 1823: 11, 1580: 11, 1955: 11, 449: 11, 207: 11, 1513: 11, 1598: 11, 1772: 11, 1751: 11, 1728: 11, 1897: 11, 296: 11, 2011: 11, 1679: 10, 2449: 10, 1951: 10, 2307: 10, 1528: 10, 1833: 10, 1681: 10, 226: 10, 1887: 10, 1538: 10, 1885: 10, 1926: 10, 1978: 10, 1731: 10, 1507: 10, 2380: 10, 1673: 10, 2046: 10, 1638: 10, 1712: 10, 2212: 10, 1622: 10, 1746: 10, 2034: 10, 1303: 10, 364: 10, 2015: 10, 2417: 10, 1945: 10, 1495: 10, 2329: 10, 1439: 10, 1832: 10, 1463: 10, 1973: 10, 1745: 10, 2232: 10, 1467: 10, 1613: 10, 2693: 10, 2038: 10, 2183: 10, 1999: 10, 1592: 10, 2292: 10, 487: 10, 2589: 10, 1610: 10, 1995: 10, 379: 10, 2453: 10, 1651: 10, 215: 10, 1579: 10, 1455: 10, 1575: 10, 217: 10, 1478: 10, 2270: 10, 2086: 10, 1534: 10, 2559: 10, 2315: 10, 2192: 10, 1946: 10, 1888: 10, 1988: 10, 219: 10, 443: 10, 1689: 10, 2113: 10, 1557: 10, 1923: 10, 2220: 10, 2254: 10, 1715: 10, 1844: 10, 2017: 10, 2341: 10, 225: 10, 1729: 10, 496: 10, 1404: 10, 1585: 10, 1789: 10, 1986: 10, 1741: 10, 1397: 10, 2290: 10, 1879: 10, 1799: 10, 1680: 10, 1416: 10, 1914: 10, 2235: 10, 2118: 10, 1658: 10, 1714: 10, 1565: 10, 1454: 10, 1683: 9, 1588: 9, 2159: 9, 203: 9, 2150: 9, 1662: 9, 2176: 9, 2943: 9, 1462: 9, 1938: 9, 1474: 9, 2147: 9, 2140: 9, 1730: 9, 376: 9, 1411: 9, 2574: 9, 2115: 9, 1837: 9, 1699: 9, 2352: 9, 1593: 9, 1967: 9, 1669: 9, 2032: 9, 1686: 9, 1970: 9, 2982: 9, 1682: 9, 2001: 9, 2138: 9, 1820: 9, 1274: 9, 1629: 9, 1732: 9, 1875: 9, 2049: 9, 1913: 9, 1828: 9, 2858: 9, 1542: 9, 1407: 9, 1778: 9, 2514: 9, 1440: 9, 2124: 9, 1991: 9, 2244: 9, 2246: 9, 1738: 9, 2130: 9, 263: 9, 1364: 9, 1825: 9, 2000: 9, 2002: 9, 2042: 9, 1815: 9, 1912: 9, 216: 9, 1739: 9, 1886: 9, 1944: 9, 1803: 9, 2403: 9, 1625: 9, 1856: 9, 1892: 9, 1768: 9, 2413: 9, 2444: 9, 2331: 9, 1963: 9, 1744: 9, 2092: 9, 1249: 9, 1759: 9, 2531: 9, 2025: 9, 1603: 9, 1535: 9, 1880: 9, 1563: 9, 1612: 9, 1742: 9, 1653: 9, 1989: 9, 1596: 9, 1387: 9, 1883: 9, 1583: 9, 1701: 9, 1854: 9, 221: 9, 2045: 9, 1845: 9, 2229: 9, 1552: 9, 223: 9, 1674: 9, 2155: 9, 1452: 9, 2236: 9, 1719: 9, 2963: 9, 1848: 9, 1831: 9, 2181: 9, 1204: 9, 1379: 9, 1607: 9, 2221: 9, 2291: 9, 2019: 9, 2216: 9, 2104: 9, 2070: 9, 2351: 8, 1748: 8, 2596: 8, 2016: 8, 2241: 8, 2035: 8, 1740: 8, 2252: 8, 2293: 8, 2242: 8, 173: 8, 1942: 8, 1836: 8, 1736: 8, 2033: 8, 2337: 8, 2078: 8, 1295: 8, 2098: 8, 1993: 8, 2488: 8, 2325: 8, 2280: 8, 194: 8, 306: 8, 1704: 8, 1971: 8, 1794: 8, 1762: 8, 2064: 8, 2077: 8, 2393: 8, 1707: 8, 2230: 8, 1321: 8, 2096: 8, 1556: 8, 2226: 8, 1960: 8, 2251: 8, 2056: 8, 1793: 8, 1964: 8, 1932: 8, 1782: 8, 1929: 8, 2348: 8, 412: 8, 2826: 8, 1869: 8, 2752: 8, 1720: 8, 2039: 8, 189: 8, 1665: 8, 2131: 8, 1654: 8, 366: 8, 1501: 8, 2238: 8, 2120: 8, 2885: 8, 1646: 8, 1786: 8, 1987: 8, 1852: 8, 2206: 8, 1841: 8, 2169: 8, 2129: 8, 1718: 8, 2087: 8, 1858: 8, 1954: 8, 1961: 8, 2419: 8, 2926: 8, 2082: 8, 2310: 8, 1456: 8, 2875: 8, 1780: 8, 1959: 8, 195: 8, 196: 8, 2278: 8, 1919: 8, 1868: 8, 3051: 8, 2571: 8, 2420: 8, 2062: 8, 2105: 8, 1847: 8, 1940: 8, 2881: 8, 2110: 8, 2323: 8, 2992: 8, 2107: 8, 2026: 8, 1445: 8, 200: 8, 1743: 8, 1911: 8, 2260: 8, 2117: 7, 1550: 7, 1894: 7, 2224: 7, 2304: 7, 2106: 7, 1840: 7, 3417: 7, 2261: 7, 1512: 7, 2709: 7, 2391: 7, 1979: 7, 1597: 7, 2653: 7, 2669: 7, 1855: 7, 2308: 7, 1857: 7, 1481: 7, 208: 7, 2126: 7, 2853: 7, 2696: 7, 1851: 7, 2410: 7, 1966: 7, 1800: 7, 2168: 7, 3134: 7, 2205: 7, 1904: 7, 2424: 7, 2162: 7, 2136: 7, 1779: 7, 1790: 7, 188: 7, 2509: 7, 2465: 7, 1754: 7, 1692: 7, 1921: 7, 2503: 7, 2066: 7, 2198: 7, 2134: 7, 1877: 7, 2135: 7, 1839: 7, 2697: 7, 2101: 7, 2771: 7, 2560: 7, 1873: 7, 2364: 7, 1640: 7, 209: 7, 1924: 7, 1670: 7, 2184: 7, 1899: 7, 2108: 7, 1915: 7, 1620: 7, 1850: 7, 2137: 7, 2215: 7, 2003: 7, 2699: 7, 2285: 7, 2411: 7, 1957: 7, 2173: 7, 1902: 7, 3258: 7, 1766: 7, 2306: 7, 1677: 7, 2294: 7, 2152: 7, 1747: 7, 1633: 7, 2830: 7, 2286: 7, 2142: 7, 1765: 7, 1703: 7, 2006: 7, 2402: 7, 1901: 7, 2194: 7, 2300: 7, 2516: 7, 2513: 7, 1484: 7, 2044: 7, 1826: 7, 213: 7, 1783: 7, 1365: 7, 1939: 7, 168: 7, 1734: 7, 2719: 7, 1705: 7, 1870: 7, 2798: 7, 2208: 7, 1582: 7, 3286: 7, 2625: 7, 2593: 7, 2061: 7, 1626: 7, 2385: 7, 1514: 7, 1643: 7, 2281: 7, 2167: 7, 1437: 7, 1990: 7, 1910: 7, 1863: 7, 2729: 7, 2543: 7, 1700: 7, 2043: 7, 1716: 7, 1931: 7, 1711: 7, 1974: 7, 1817: 7, 2191: 7, 3227: 6, 2409: 6, 2005: 6, 1755: 6, 2425: 6, 1753: 6, 2328: 6, 197: 6, 2170: 6, 1634: 6, 1805: 6, 2065: 6, 2565: 6, 2358: 6, 2614: 6, 2851: 6, 3119: 6, 2188: 6, 2584: 6, 2024: 6, 2369: 6, 2210: 6, 2121: 6, 2321: 6, 2083: 6, 184: 6, 204: 6, 2477: 6, 2253: 6, 2874: 6, 1997: 6, 2711: 6, 2201: 6, 2689: 6, 3121: 6, 2910: 6, 1547: 6, 2199: 6, 2160: 6, 2020: 6, 220: 6, 2353: 6, 2010: 6, 2298: 6, 2342: 6, 1735: 6, 2686: 6, 1953: 6, 2204: 6, 2833: 6, 2073: 6, 2054: 6, 2473: 6, 2451: 6, 2239: 6, 2153: 6, 2487: 6, 2273: 6, 1687: 6, 2572: 6, 3861: 6, 2929: 6, 2123: 6, 2773: 6, 2502: 6, 1941: 6, 2440: 6, 1631: 6, 1972: 6, 2381: 6, 2269: 6, 1994: 6, 185: 6, 1927: 6, 1981: 6, 2008: 6, 3174: 6, 3574: 6, 2592: 6, 2562: 6, 2067: 6, 2894: 6, 2437: 6, 2370: 6, 2846: 6, 2256: 6, 2908: 6, 2227: 6, 1876: 6, 3321: 6, 2266: 6, 193: 6, 2789: 6, 1644: 6, 2021: 6, 2754: 6, 2818: 6, 2685: 6, 1636: 6, 1866: 6, 2322: 6, 2091: 6, 2302: 6, 1893: 6, 1920: 6, 2088: 6, 1862: 6, 2664: 6, 2274: 6, 1962: 6, 1983: 6, 2257: 6, 1721: 6, 3158: 6, 2177: 6, 2171: 6, 2063: 6, 1998: 6, 2263: 6, 2314: 6, 2375: 6, 2012: 6, 2760: 6, 1571: 6, 1985: 6, 2940: 6, 2995: 6, 2630: 6, 3256: 6, 1814: 6, 2200: 6, 2103: 6, 2312: 6, 2148: 6, 1722: 6, 2295: 6, 1813: 6, 2382: 6, 2284: 6, 2573: 6, 1925: 6, 2948: 6, 2607: 6, 2511: 6, 1846: 6, 2395: 6, 2143: 6, 2455: 6, 2852: 6, 2384: 6, 2536: 6, 2047: 6, 2330: 6, 2265: 6, 2262: 6, 2645: 6, 1758: 6, 2333: 6, 2412: 6, 2529: 6, 2223: 6, 3096: 6, 1933: 6, 2786: 6, 2400: 6, 2081: 6, 1871: 6, 2984: 5, 2112: 5, 2866: 5, 1950: 5, 2476: 5, 3559: 5, 2618: 5, 2055: 5, 2712: 5, 3623: 5, 2406: 5, 2635: 5, 2133: 5, 2319: 5, 2243: 5, 1770: 5, 167: 5, 2161: 5, 2613: 5, 2316: 5, 1864: 5, 2544: 5, 2813: 5, 3230: 5, 2471: 5, 2196: 5, 2878: 5, 2814: 5, 2303: 5, 2041: 5, 2432: 5, 2211: 5, 2418: 5, 3033: 5, 2271: 5, 1668: 5, 2421: 5, 2905: 5, 2816: 5, 3091: 5, 3061: 5, 2197: 5, 2651: 5, 2335: 5, 2258: 5, 2245: 5, 3701: 5, 2338: 5, 2275: 5, 2085: 5, 2374: 5, 2435: 5, 2209: 5, 2954: 5, 1992: 5, 2102: 5, 2577: 5, 2755: 5, 2225: 5, 1982: 5, 2144: 5, 2060: 5, 1684: 5, 2501: 5, 2247: 5, 2359: 5, 2366: 5, 3289: 5, 2887: 5, 2667: 5, 2365: 5, 2439: 5, 1752: 5, 2739: 5, 2259: 5, 2423: 5, 2870: 5, 2970: 5, 2494: 5, 3187: 5, 2780: 5, 1702: 5, 2219: 5, 4253: 5, 3095: 5, 2939: 5, 2491: 5, 2051: 5, 2841: 5, 2594: 5, 2029: 5, 2180: 5, 2538: 5, 2296: 5, 198: 5, 2895: 5, 2528: 5, 2556: 5, 3312: 5, 2164: 5, 183: 5, 2687: 5, 2228: 5, 3025: 5, 2721: 5, 3109: 5, 2666: 5, 2704: 5, 1928: 5, 1695: 5, 2037: 5, 2357: 5, 2186: 5, 2717: 5, 1881: 5, 2484: 5, 1935: 5, 1809: 5, 1810: 5, 2619: 5, 2836: 5, 2151: 5, 3173: 5, 4129: 5, 1948: 5, 2821: 5, 1830: 5, 2692: 5, 2649: 5, 2157: 5, 2427: 5, 2234: 5, 2972: 5, 2753: 5, 2950: 5, 2527: 5, 2922: 5, 3304: 5, 206: 5, 2214: 5, 3172: 5, 2027: 5, 2250: 5, 2390: 5, 2378: 5, 2923: 5, 2057: 5, 1952: 5, 2537: 5, 2553: 5, 2324: 5, 2968: 5, 2777: 5, 2343: 5, 2483: 5, 2591: 5, 2305: 5, 3294: 5, 2936: 5, 2392: 5, 3341: 5, 2467: 5, 4183: 5, 2344: 5, 2396: 5, 2474: 5, 2603: 5, 2545: 5, 3617: 5, 2728: 5, 2791: 5, 2249: 5, 2879: 5, 2363: 5, 1943: 5, 2346: 5, 2094: 5, 2703: 5, 3371: 5, 1723: 5, 3740: 5, 202: 5, 2089: 5, 2569: 5, 180: 5, 1872: 5, 2347: 5, 2377: 5, 2277: 5, 3009: 5, 3142: 5, 3976: 5, 2313: 5, 2903: 5, 2915: 5, 154: 5, 2482: 5, 3424: 5, 1798: 5, 2093: 5, 2297: 5, 2007: 5, 2535: 5, 1861: 5, 2706: 5, 2475: 5, 2552: 5, 2053: 5, 191: 5, 2175: 5, 2276: 5, 1540: 5, 2090: 5, 3270: 5, 190: 5, 2401: 5, 187: 5, 2320: 5, 2387: 5, 2361: 5, 158: 4, 3054: 4, 2900: 4, 3107: 4, 2072: 4, 2084: 4, 2863: 4, 3519: 4, 2122: 4, 2013: 4, 2450: 4, 176: 4, 2716: 4, 2617: 4, 2459: 4, 2585: 4, 2799: 4, 175: 4, 2606: 4, 2389: 4, 2705: 4, 3197: 4, 3116: 4, 3209: 4, 2264: 4, 1796: 4, 2030: 4, 2976: 4, 152: 4, 2720: 4, 3456: 4, 3370: 4, 2935: 4, 1969: 4, 1917: 4, 182: 4, 2541: 4, 2763: 4, 3406: 4, 2997: 4, 3043: 4, 2787: 4, 2971: 4, 3156: 4, 2547: 4, 2622: 4, 2311: 4, 2638: 4, 2540: 4, 3332: 4, 2925: 4, 1975: 4, 2500: 4, 2733: 4, 3045: 4, 2626: 4, 2681: 4, 2820: 4, 2882: 4, 3188: 4, 201: 4, 2515: 4, 2071: 4, 2218: 4, 2602: 4, 3330: 4, 2399: 4, 2195: 4, 2014: 4, 2804: 4, 3482: 4, 2145: 4, 2139: 4, 3345: 4, 2233: 4, 2938: 4, 2326: 4, 2869: 4, 2174: 4, 3602: 4, 2616: 4, 2468: 4, 2470: 4, 2504: 4, 3279: 4, 3960: 4, 2267: 4, 3500: 4, 2493: 4, 2549: 4, 2095: 4, 2745: 4, 2461: 4, 2683: 4, 3913: 4, 3658: 4, 2397: 4, 2842: 4, 2732: 4, 3201: 4, 3877: 4, 2125: 4, 4284: 4, 2052: 4, 3228: 4, 2486: 4, 3421: 4, 2426: 4, 3067: 4, 2807: 4, 2508: 4, 4060: 4, 2967: 4, 3618: 4, 2958: 4, 3322: 4, 2231: 4, 4478: 4, 2004: 4, 2660: 4, 3846: 4, 166: 4, 2884: 4, 2880: 4, 2507: 4, 2309: 4, 2422: 4, 3307: 4, 4109: 4, 2977: 4, 2566: 4, 2498: 4, 4002: 4, 1589: 4, 2178: 4, 2156: 4, 2793: 4, 5243: 4, 2237: 4, 3392: 4, 2036: 4, 3875: 4, 1918: 4, 3176: 4, 3298: 4, 174: 4, 2532: 4, 3493: 4, 3066: 4, 2132: 4, 2748: 4, 2932: 4, 2460: 4, 3133: 4, 3136: 4, 3057: 4, 3499: 4, 2023: 4, 2018: 4, 3100: 4, 1895: 4, 3578: 4, 3039: 4, 3161: 4, 2746: 4, 2656: 4, 3723: 4, 3451: 4, 2643: 4, 137: 4, 2555: 4, 2179: 4, 3297: 4, 2463: 4, 2579: 4, 2202: 4, 2849: 4, 2499: 4, 3150: 4, 2810: 4, 3372: 4, 2611: 4, 159: 4, 3582: 4, 2099: 4, 3728: 4, 2466: 4, 3469: 4, 3244: 4, 3137: 4, 2080: 4, 3959: 4, 2629: 4, 2464: 4, 2075: 4, 2722: 4, 2429: 4, 3333: 4, 3058: 4, 2873: 4, 3124: 4, 2480: 4, 2986: 4, 4243: 4, 2028: 4, 2339: 4, 2765: 4, 2526: 4, 2741: 4, 2299: 4, 3146: 4, 2812: 4, 3748: 4, 2844: 4, 1956: 4, 2207: 4, 2111: 4, 2758: 4, 2441: 4, 3007: 4, 1965: 4, 3271: 4, 3034: 4, 2610: 4, 2490: 4, 4036: 4, 3070: 4, 2116: 4, 3817: 4, 2349: 4, 2345: 4, 2415: 4, 2707: 4, 2590: 4, 3254: 4, 2100: 4, 2598: 4, 4058: 4, 2497: 4, 2599: 4, 3834: 4, 2009: 4, 3224: 4, 2166: 4, 3014: 4, 2530: 4, 2805: 4, 2141: 4, 2583: 4, 2662: 4, 3101: 4, 3437: 4, 2725: 4, 2222: 4, 3083: 4, 165: 4, 2040: 4, 162: 4, 3164: 4, 3078: 4, 2119: 4, 164: 4, 2944: 4, 1980: 4, 2781: 4, 2646: 4, 2615: 4, 3631: 3, 3871: 3, 3770: 3, 3226: 3, 2794: 3, 2708: 3, 2624: 3, 3106: 3, 3069: 3, 2960: 3, 2600: 3, 3097: 3, 4712: 3, 2561: 3, 3324: 3, 2909: 3, 2736: 3, 2213: 3, 2523: 3, 2190: 3, 4890: 3, 2582: 3, 3138: 3, 3712: 3, 2414: 3, 3629: 3, 2076: 3, 2534: 3, 3198: 3, 135: 3, 3387: 3, 3260: 3, 3800: 3, 3336: 3, 2985: 3, 3282: 3, 4128: 3, 3087: 3, 2906: 3, 2897: 3, 3268: 3, 3807: 3, 2834: 3, 2595: 3, 5278: 3, 3212: 3, 2919: 3, 4085: 3, 2694: 3, 3200: 3, 3311: 3, 2203: 3, 2519: 3, 4040: 3, 3730: 3, 2757: 3, 3446: 3, 3562: 3, 2999: 3, 2955: 3, 3093: 3, 2642: 3, 3786: 3, 2408: 3, 4237: 3, 2518: 3, 3089: 3, 178: 3, 4074: 3, 2022: 3, 3521: 3, 2902: 3, 5793: 3, 4077: 3, 3394: 3, 136: 3, 3452: 3, 3641: 3, 3764: 3, 3598: 3, 2839: 3, 2941: 3, 3300: 3, 2356: 3, 3287: 3, 2546: 3, 4174: 3, 3581: 3, 2924: 3, 2680: 3, 2762: 3, 4678: 3, 2146: 3, 4999: 3, 3205: 3, 147: 3, 3397: 3, 3492: 3, 5131: 3, 3331: 3, 2557: 3, 2702: 3, 2975: 3, 2457: 3, 4034: 3, 2522: 3, 3105: 3, 2828: 3, 3292: 3, 3235: 3, 3373: 3, 3472: 3, 2677: 3, 4927: 3, 2376: 3, 3463: 3, 3048: 3, 2405: 3, 3152: 3, 3627: 3, 3416: 3, 4326: 3, 3055: 3, 2843: 3, 3467: 3, 2454: 3, 2917: 3, 3064: 3, 2990: 3, 2445: 3, 3002: 3, 2448: 3, 3589: 3, 2934: 3, 2776: 3, 4005: 3, 3556: 3, 3984: 3, 3841: 3, 2627: 3, 2778: 3, 2478: 3, 2446: 3, 3062: 3, 3080: 3, 1808: 3, 3117: 3, 192: 3, 2059: 3, 4982: 3, 3218: 3, 3754: 3, 2558: 3, 1906: 3, 3643: 3, 3288: 3, 2604: 3, 2918: 3, 2647: 3, 4030: 3, 2845: 3, 2700: 3, 2916: 3, 4095: 3, 2980: 3, 3210: 3, 2570: 3, 3436: 3, 4534: 3, 2109: 3, 3169: 3, 2279: 3, 2913: 3, 3481: 3, 2766: 3, 2723: 3, 3207: 3, 4532: 3, 2442: 3, 3120: 3, 2658: 3, 5014: 3, 2797: 3, 2867: 3, 2608: 3, 2068: 3, 3065: 3, 2701: 3, 3223: 3, 3296: 3, 4302: 3, 2947: 3, 2764: 3, 3103: 3, 3642: 3, 4149: 3, 2883: 3, 3990: 3, 4031: 3, 3168: 3, 3407: 3, 3586: 3, 2921: 3, 3910: 3, 2824: 3, 3726: 3, 3928: 3, 2769: 3, 3885: 3, 2726: 3, 3315: 3, 3689: 3, 4067: 3, 3016: 3, 4162: 3, 2255: 3, 2759: 3, 3682: 3, 3291: 3, 3013: 3, 5222: 3, 2761: 3, 2964: 3, 2481: 3, 4179: 3, 2283: 3, 4189: 3, 5268: 3, 3010: 3, 128: 3, 3816: 3, 3318: 3, 2158: 3, 2436: 3, 2495: 3, 2416: 3, 2952: 3, 3662: 3, 3490: 3, 4165: 3, 4633: 3, 2945: 3, 2911: 3, 2058: 3, 5467: 3, 3219: 3, 2433: 3, 1655: 3, 4048: 3, 2655: 3, 2340: 3, 2714: 3, 3063: 3, 4556: 3, 3745: 3, 3540: 3, 2458: 3, 3479: 3, 3206: 3, 2386: 3, 2550: 3, 3815: 3, 2548: 3, 3419: 3, 3408: 3, 3522: 3, 2379: 3, 3464: 3, 3444: 3, 2641: 3, 4184: 3, 3047: 3, 2695: 3, 5367: 3, 2744: 3, 3075: 3, 2430: 3, 3269: 3, 3675: 3, 2690: 3, 2443: 3, 3986: 3, 2282: 3, 3037: 3, 2790: 3, 2428: 3, 4169: 3, 3202: 3, 2524: 3, 2927: 3, 2578: 3, 3011: 3, 3052: 3, 2682: 3, 2360: 3, 3474: 3, 2165: 3, 2819: 3, 5032: 3, 4122: 3, 3346: 3, 3221: 3, 2492: 3, 2336: 3, 2788: 3, 2496: 3, 3383: 3, 3141: 3, 2554: 3, 2512: 3, 2434: 3, 3547: 3, 2567: 3, 2785: 3, 3439: 3, 3860: 3, 3949: 3, 2163: 3, 2675: 3, 3257: 3, 2563: 3, 3203: 3, 2354: 3, 3445: 3, 2576: 3, 3781: 3, 2770: 3, 2355: 3, 2031: 3, 3758: 3, 153: 3, 3681: 3, 2738: 3, 2862: 3, 2149: 3, 2747: 3, 3377: 3, 3668: 3, 160: 3, 2795: 3, 4113: 3, 2856: 3, 3609: 3, 2859: 3, 2288: 3, 4102: 3, 3671: 3, 3248: 3, 2456: 3, 2920: 3, 2371: 3, 3059: 3, 4544: 3, 4507: 3, 3155: 3, 2979: 3, 3932: 3, 3049: 3, 3252: 3, 3261: 3, 2128: 3, 2928: 3, 124: 3, 2193: 3, 2648: 3, 4617: 3, 5238: 3, 3036: 3, 171: 3, 3253: 3, 2783: 3, 2854: 3, 2779: 3, 3038: 3, 2663: 3, 3017: 3, 2800: 3, 5364: 3, 2937: 2, 2398: 2, 4035: 2, 2962: 2, 3405: 2, 4354: 2, 2691: 2, 5596: 2, 5237: 2, 5496: 2, 3936: 2, 4410: 2, 2792: 2, 3111: 2, 4395: 2, 5347: 2, 4529: 2, 4265: 2, 4965: 2, 4027: 2, 2637: 2, 3622: 2, 3941: 2, 2404: 2, 2912: 2, 3046: 2, 4595: 2, 169: 2, 4857: 2, 2189: 2, 2857: 2, 3018: 2, 3338: 2, 4240: 2, 2462: 2, 3832: 2, 3274: 2, 3983: 2, 3820: 2, 5097: 2, 4093: 2, 2886: 2, 4663: 2, 2988: 2, 2808: 2, 5000: 2, 4203: 2, 4282: 2, 2865: 2, 3865: 2, 4533: 2, 3283: 2, 4425: 2, 4455: 2, 3653: 2, 5003: 2, 4182: 2, 161: 2, 2740: 2, 2899: 2, 3624: 2, 3074: 2, 3259: 2, 3524: 2, 3652: 2, 4274: 2, 3821: 2, 5030: 2, 3360: 2, 3178: 2, 2743: 2, 3435: 2, 3012: 2, 4456: 2, 4251: 2, 3245: 2, 4693: 2, 3826: 2, 2998: 2, 4307: 2, 4545: 2, 3511: 2, 4133: 2, 3979: 2, 4065: 2, 3679: 2, 4409: 2, 3923: 2, 4610: 2, 3092: 2, 3352: 2, 2974: 2, 3285: 2, 4706: 2, 163: 2, 3427: 2, 4257: 2, 3199: 2, 3415: 2, 3461: 2, 3031: 2, 3401: 2, 3886: 2, 4496: 2, 4260: 2, 2715: 2, 4420: 2, 2362: 2, 5683: 2, 5427: 2, 3555: 2, 3191: 2, 3844: 2, 3305: 2, 3094: 2, 3840: 2, 5864: 2, 3110: 2, 3779: 2, 3708: 2, 1853: 2, 3353: 2, 2893: 2, 3958: 2, 2888: 2, 3772: 2, 3801: 2, 4338: 2, 3608: 2, 5207: 2, 3348: 2, 4798: 2, 4785: 2, 5260: 2, 3241: 2, 4508: 2, 2673: 2, 2981: 2, 4516: 2, 3849: 2, 2989: 2, 3418: 2, 3812: 2, 3534: 2, 2957: 2, 5534: 2, 4514: 2, 4787: 2, 4779: 2, 3692: 2, 3470: 2, 2767: 2, 2966: 2, 5778: 2, 2580: 2, 5416: 2, 3907: 2, 2847: 2, 4647: 2, 3558: 2, 2671: 2, 3459: 2, 3072: 2, 3411: 2, 3056: 2, 4146: 2, 3132: 2, 4448: 2, 2581: 2, 145: 2, 5813: 2, 2533: 2, 3862: 2, 3706: 2, 2840: 2, 4099: 2, 3250: 2, 4103: 2, 4955: 2, 3554: 2, 4642: 2, 3455: 2, 5112: 2, 3148: 2, 2564: 2, 3005: 2, 2892: 2, 3251: 2, 4988: 2, 3222: 2, 2633: 2, 3026: 2, 4195: 2, 5365: 2, 5319: 2, 5270: 2, 3231: 2, 3635: 2, 3232: 2, 5525: 2, 3530: 2, 2860: 2, 5259: 2, 3833: 2, 5033: 2, 133: 2, 2942: 2, 3529: 2, 2978: 2, 2479: 2, 4046: 2, 3830: 2, 4370: 2, 3583: 2, 3761: 2, 4356: 2, 5729: 2, 3693: 2, 2350: 2, 3409: 2, 3869: 2, 2372: 2, 4925: 2, 3977: 2, 4506: 2, 3165: 2, 4806: 2, 3195: 2, 3053: 2, 4078: 2, 5455: 2, 5137: 2, 4324: 2, 3276: 2, 3071: 2, 4301: 2, 4255: 2, 2835: 2, 120: 2, 4914: 2, 3263: 2, 2601: 2, 2588: 2, 3750: 2, 3962: 2, 3895: 2, 4897: 2, 4531: 2, 3749: 2, 2485: 2, 2240: 2, 5034: 2, 2452: 2, 5348: 2, 3680: 2, 3621: 2, 3950: 2, 3920: 2, 4872: 2, 3639: 2, 2901: 2, 2678: 2, 3003: 2, 3625: 2, 4915: 2, 4261: 2, 3837: 2, 2983: 2, 2431: 2, 4337: 2, 2388: 2, 3536: 2, 4045: 2, 3334: 2, 3299: 2, 3118: 2, 3787: 2, 51: 2, 2670: 2, 4108: 2, 3667: 2, 3615: 2, 4888: 2, 3163: 2, 4725: 2, 5171: 2, 4042: 2, 3081: 2, 3309: 2, 3450: 2, 5337: 2, 3710: 2, 4141: 2, 3498: 2, 4330: 2, 3570: 2, 3809: 2, 4954: 2, 4091: 2, 4360: 2, 5221: 2, 3518: 2, 3032: 2, 3683: 2, 4117: 2, 3317: 2, 3115: 2, 3001: 2, 2825: 2, 3838: 2, 3904: 2, 3185: 2, 5233: 2, 2661: 2, 3940: 2, 2961: 2, 3718: 2, 5078: 2, 4500: 2, 4758: 2, 3204: 2, 2542: 2, 1760: 2, 4064: 2, 4132: 2, 2520: 2, 4018: 2, 5096: 2, 157: 2, 3389: 2, 5194: 2, 5197: 2, 4466: 2, 3628: 2, 3376: 2, 2734: 2, 2855: 2, 4321: 2, 3889: 2, 5584: 2, 3395: 2, 5370: 2, 3380: 2, 3365: 2, 3978: 2, 4470: 2, 4143: 2, 2472: 2, 3426: 2, 3946: 2, 3457: 2, 3790: 2, 4655: 2, 4281: 2, 2438: 2, 4462: 2, 3756: 2, 3670: 2, 5359: 2, 2657: 2, 3420: 2, 2332: 2, 2898: 2, 3981: 2, 3775: 2, 4121: 2, 4041: 2, 4332: 2, 3433: 2, 2877: 2, 3616: 2, 3703: 2, 4498: 2, 4505: 2, 4469: 2, 127: 2, 4674: 2, 5246: 2, 3494: 2, 2684: 2, 2575: 2, 2718: 2, 4657: 2, 3343: 2, 2674: 2, 2749: 2, 3181: 2, 2644: 2, 4499: 2, 5058: 2, 4416: 2, 3374: 2, 2327: 2, 3878: 2, 3114: 2, 4880: 2, 4628: 2, 4867: 2, 4073: 2, 3528: 2, 3162: 2, 4816: 2, 2829: 2, 5504: 2, 3561: 2, 121: 2, 3098: 2, 3319: 2, 3557: 2, 5219: 2, 2652: 2, 5223: 2, 2822: 2, 3573: 2, 4539: 2, 4247: 2, 148: 2, 5059: 2, 3004: 2, 5245: 2, 5135: 2, 3690: 2, 3633: 2, 3335: 2, 4235: 2, 3277: 2, 2817: 2, 3857: 2, 3847: 2, 4056: 2, 3731: 2, 3143: 2, 5996: 2, 5317: 2, 5495: 2, 5312: 2, 2991: 2, 3272: 2, 3366: 2, 3280: 2, 3040: 2, 3159: 2, 3916: 2, 3811: 2, 2609: 2, 5667: 2, 199: 2, 5568: 2, 5178: 2, 2850: 2, 3153: 2, 3375: 2, 4428: 2, 4266: 2, 4346: 2, 3023: 2, 3697: 2, 5254: 2, 3388: 2, 4830: 2, 2289: 2, 4343: 2, 4911: 2, 2864: 2, 2735: 2, 3716: 2, 3399: 2, 2973: 2, 3342: 2, 2811: 2, 2301: 2, 4502: 2, 3015: 2, 4004: 2, 2768: 2, 2182: 2, 3192: 2, 3560: 2, 3476: 2, 3099: 2, 172: 2, 4538: 2, 3842: 2, 5184: 2, 5662: 2, 4079: 2, 2248: 2, 3060: 2, 186: 2, 5674: 2, 3507: 2, 3166: 2, 5151: 2, 2551: 2, 3915: 2, 4380: 2, 3825: 2, 3438: 2, 3225: 2, 3654: 2, 4728: 2, 3661: 2, 3924: 2, 3357: 2, 3527: 2, 5296: 2, 4275: 2, 4349: 2, 5094: 2, 2665: 2, 3867: 2, 4270: 2, 3805: 2, 3323: 2, 3019: 2, 117: 2, 4492: 2, 3729: 2, 2373: 2, 2731: 2, 3998: 2, 5695: 2, 63: 2, 3050: 2, 3398: 2, 3149: 2, 2730: 2, 4594: 2, 5294: 2, 4923: 2, 122: 2, 2996: 2, 3982: 2, 3970: 2, 5228: 2, 2837: 2, 3908: 2, 3184: 2, 3028: 2, 3024: 2, 3585: 2, 2737: 2, 3413: 2, 3122: 2, 5463: 2, 3593: 2, 5026: 2, 3541: 2, 3102: 2, 3853: 2, 5126: 2, 4443: 2, 5272: 2, 3238: 2, 3339: 2, 5629: 2, 5474: 2, 3237: 2, 3939: 2, 2394: 2, 111: 2, 3186: 2, 2827: 2, 2688: 2, 2568: 2, 4751: 2, 5081: 2, 4732: 2, 3774: 2, 3255: 2, 131: 2, 4698: 2, 3325: 2, 3655: 2, 5346: 2, 4092: 2, 3306: 2, 3594: 2, 4010: 2, 2605: 2, 2774: 2, 3597: 2, 4651: 2, 5358: 2, 2698: 2, 3651: 2, 4372: 2, 3180: 2, 2848: 2, 134: 2, 4419: 2, 3858: 2, 5727: 2, 4368: 2, 2631: 2, 3851: 2, 3799: 2, 4463: 2, 3504: 2, 4612: 2, 3961: 2, 5482: 2, 4433: 2, 149: 2, 3603: 2, 3073: 2, 2803: 2, 3700: 2, 3485: 2, 2668: 2, 5277: 2, 3506: 2, 3632: 2, 3434: 2, 4197: 2, 3751: 2, 5021: 2, 3595: 2, 5490: 2, 3281: 2, 3329: 2, 98: 2, 5548: 2, 3804: 2, 3902: 2, 181: 2, 3086: 2, 5454: 2, 3917: 2, 5248: 2, 4542: 2, 3313: 2, 3647: 2, 3234: 2, 4998: 2, 5765: 2, 4512: 2, 3611: 2, 2742: 2, 3657: 2, 115: 2, 5382: 2, 123: 2, 3215: 2, 2383: 2, 2623: 2, 3637: 2, 5049: 1, 4475: 1, 3734: 1, 4852: 1, 3921: 1, 3795: 1, 4681: 1, 96: 1, 4171: 1, 3630: 1, 3640: 1, 5571: 1, 4699: 1, 6889: 1, 3948: 1, 4236: 1, 4277: 1, 4883: 1, 4449: 1, 4524: 1, 2710: 1, 5354: 1, 3969: 1, 4597: 1, 4913: 1, 3759: 1, 4665: 1, 92: 1, 3890: 1, 4233: 1, 4388: 1, 2802: 1, 7765: 1, 3233: 1, 3429: 1, 5357: 1, 4780: 1, 4126: 1, 3552: 1, 4294: 1, 4063: 1, 4729: 1, 3229: 1, 3882: 1, 2969: 1, 4212: 1, 4993: 1, 4033: 1, 4299: 1, 4486: 1, 3763: 1, 4611: 1, 3171: 1, 4517: 1, 4730: 1, 3477: 1, 3619: 1, 4134: 1, 3432: 1, 9728: 1, 4211: 1, 3783: 1, 5379: 1, 4051: 1, 4068: 1, 3144: 1, 4297: 1, 5398: 1, 4392: 1, 4593: 1, 9069: 1, 76: 1, 4483: 1, 5835: 1, 4424: 1, 5866: 1, 3367: 1, 5945: 1, 4990: 1, 5225: 1, 4378: 1, 4586: 1, 5076: 1, 4043: 1, 5271: 1, 3725: 1, 5425: 1, 3911: 1, 4587: 1, 3240: 1, 2751: 1, 4022: 1, 3130: 1, 3606: 1, 3423: 1, 4020: 1, 5256: 1, 4764: 1, 3431: 1, 3084: 1, 4118: 1, 4434: 1, 4012: 1, 5381: 1, 3568: 1, 3794: 1, 5345: 1, 4569: 1, 4707: 1, 2891: 1, 4501: 1, 4393: 1, 3884: 1, 4144: 1, 2521: 1, 4858: 1, 5745: 1, 4515: 1, 5633: 1, 9760: 1, 3771: 1, 3905: 1, 3295: 1, 3520: 1, 4452: 1, 4154: 1, 4015: 1, 4427: 1, 2659: 1, 5274: 1, 3275: 1, 3496: 1, 5536: 1, 5886: 1, 3997: 1, 4861: 1, 5762: 1, 4557: 1, 3727: 1, 2756: 1, 3575: 1, 4431: 1, 3992: 1, 4662: 1, 3354: 1, 3565: 1, 4315: 1, 4583: 1, 4436: 1, 4813: 1, 3381: 1, 4071: 1, 5169: 1, 5453: 1, 3553: 1, 3430: 1, 3006: 1, 3987: 1, 3665: 1, 7682: 1, 5102: 1, 3777: 1, 3505: 1, 2650: 1, 4675: 1, 3567: 1, 4645: 1, 6946: 1, 4592: 1, 5808: 1, 5497: 1, 3930: 1, 5478: 1, 2628: 1, 3563: 1, 4225: 1, 3854: 1, 3104: 1, 4076: 1, 4570: 1, 4267: 1, 4677: 1, 5480: 1, 3539: 1, 4579: 1, 5732: 1, 3669: 1, 4430: 1, 151: 1, 4762: 1, 5522: 1, 179: 1, 4173: 1, 4152: 1, 3656: 1, 4952: 1, 125: 1, 4772: 1, 4131: 1, 2713: 1, 3850: 1, 5656: 1, 5686: 1, 4401: 1, 4153: 1, 3829: 1, 5502: 1, 3685: 1, 4105: 1, 4114: 1, 3660: 1, 3791: 1, 5393: 1, 4811: 1, 5464: 1, 4609: 1, 3328: 1, 5750: 1, 4295: 1, 5315: 1, 5182: 1, 4196: 1, 2784: 1, 4759: 1, 5446: 1, 4176: 1, 5583: 1, 5740: 1, 4296: 1, 3400: 1, 3883: 1, 104: 1, 4887: 1, 4640: 1, 5187: 1, 4767: 1, 3497: 1, 5350: 1, 5090: 1, 5630: 1, 4351: 1, 4086: 1, 5471: 1, 3866: 1, 3425: 1, 4287: 1, 5217: 1, 156: 1, 4686: 1, 4934: 1, 5540: 1, 5451: 1, 2517: 1, 3604: 1, 5436: 1, 146: 1, 5342: 1, 4497: 1, 5856: 1, 4841: 1, 5334: 1, 3327: 1, 3542: 1, 2539: 1, 10297: 1, 2951: 1, 5460: 1, 5933: 1, 4375: 1, 3971: 1, 54: 1, 4050: 1, 4239: 1, 4979: 1, 3471: 1, 90: 1, 4054: 1, 3147: 1, 5206: 1, 5086: 1, 5028: 1, 4269: 1, 3278: 1, 2896: 1, 4573: 1, 5692: 1, 3030: 1, 3766: 1, 4980: 1, 5626: 1, 4170: 1, 4423: 1, 2956: 1, 5608: 1, 5840: 1, 4139: 1, 4874: 1, 4341: 1, 3135: 1, 5292: 1, 3836: 1, 5288: 1, 4871: 1, 5923: 1, 3744: 1, 102: 1, 4106: 1, 7347: 1, 144: 1, 7907: 1, 4217: 1, 4336: 1, 3648: 1, 3167: 1, 3487: 1, 118: 1, 4369: 1, 5385: 1, 5147: 1, 3126: 1, 4345: 1, 4319: 1, 4924: 1, 5538: 1, 3475: 1, 5619: 1, 5690: 1, 4585: 1, 3154: 1, 3213: 1, 6799: 1, 5122: 1, 3798: 1, 5185: 1, 3848: 1, 5598: 1, 6249: 1, 3663: 1, 3765: 1, 5276: 1, 4705: 1, 3714: 1, 4445: 1, 3403: 1, 5080: 1, 4394: 1, 4289: 1, 5195: 1, 5162: 1, 3160: 1, 4578: 1, 4742: 1, 3364: 1, 5263: 1, 5177: 1, 4832: 1, 3379: 1, 141: 1, 5763: 1, 3460: 1, 4543: 1, 3410: 1, 5120: 1, 6233: 1, 2965: 1, 4147: 1, 5310: 1, 3453: 1, 3720: 1, 3480: 1, 3967: 1, 3243: 1, 5230: 1, 4992: 1, 4386: 1, 5861: 1, 5308: 1, 3819: 1, 5501: 1, 3531: 1, 66: 1, 103: 1, 4387: 1, 4576: 1, 4738: 1, 5631: 1, 5775: 1, 2489: 1, 5509: 1, 5554: 1, 7398: 1, 3246: 1, 3316: 1, 4692: 1, 3145: 1, 4278: 1, 4550: 1, 3818: 1, 5829: 1, 2587: 1, 4839: 1, 4187: 1, 4825: 1, 5612: 1, 5915: 1, 3125: 1, 2946: 1, 4298: 1, 3302: 1, 142: 1, 6122: 1, 4673: 1, 4577: 1, 5468: 1, 3649: 1, 116: 1, 6969: 1, 3382: 1, 5782: 1, 3938: 1, 5812: 1, 3859: 1, 3776: 1, 3767: 1, 3788: 1, 5015: 1, 3803: 1, 5057: 1, 4819: 1, 62: 1, 4273: 1, 5616: 1, 4817: 1, 3448: 1, 4635: 1, 4491: 1, 4970: 1, 3822: 1, 4017: 1, 3773: 1, 5815: 1, 3587: 1, 4555: 1, 3422: 1, 5606: 1, 3937: 1, 4840: 1, 5535: 1, 5434: 1, 3361: 1, 3613: 1, 4460: 1, 4950: 1, 4749: 1, 5300: 1, 4630: 1, 4185: 1, 4039: 1, 3900: 1, 5437: 1, 4829: 1, 3922: 1, 4325: 1, 5336: 1, 3414: 1, 3566: 1, 4755: 1, 5069: 1, 4357: 1, 4552: 1, 3127: 1, 4025: 1, 2510: 1, 4547: 1, 4756: 1, 4166: 1, 5609: 1, 3449: 1, 3320: 1, 5232: 1, 4142: 1, 4164: 1, 3993: 1, 3678: 1, 4708: 1, 5622: 1, 3903: 1, 4227: 1, 4649: 1, 4790: 1, 3249: 1, 2640: 1, 5449: 1, 4563: 1, 2907: 1, 5012: 1, 3852: 1, 4400: 1, 3927: 1, 5432: 1, 3151: 1, 4623: 1, 3868: 1, 4621: 1, 4072: 1, 3344: 1, 4006: 1, 5362: 1, 4476: 1, 3931: 1, 4789: 1, 5213: 1, 4773: 1, 4553: 1, 5029: 1, 5038: 1, 3021: 1, 2801: 1, 5590: 1, 5392: 1, 2750: 1, 5817: 1, 4842: 1, 3918: 1, 3591: 1, 4967: 1, 4084: 1, 3596: 1, 3881: 1, 5010: 1, 78: 1, 3035: 1, 4340: 1, 3874: 1, 3973: 1, 5402: 1, 5804: 1, 5022: 1, 2871: 1, 5679: 1, 3753: 1, 5897: 1, 4348: 1, 4280: 1, 4536: 1, 3699: 1, 5593: 1, 3356: 1, 5551: 1, 2679: 1, 4771: 1, 5493: 1, 3393: 1, 4172: 1, 4822: 1, 4405: 1, 5198: 1, 4910: 1, 5250: 1, 5511: 1, 3454: 1, 3183: 1, 3784: 1, 2796: 1, 3020: 1, 8185: 1, 3044: 1, 3873: 1, 4026: 1, 3599: 1, 3441: 1, 2993: 1, 4596: 1, 5526: 1, 4293: 1, 4721: 1, 5594: 1, 4157: 1, 4032: 1, 7078: 1, 5211: 1, 4661: 1, 4201: 1, 30: 1, 4971: 1, 5950: 1, 2634: 1, 4116: 1, 2876: 1, 5555: 1, 3340: 1, 5919: 1, 3945: 1, 3545: 1, 4627: 1, 3755: 1, 3523: 1, 5396: 1, 5744: 1, 3577: 1, 4835: 1, 3170: 1, 4826: 1, 4973: 1, 6717: 1, 5368: 1, 4843: 1, 4959: 1, 4865: 1, 3634: 1, 3088: 1, 5747: 1, 4605: 1, 5749: 1, 48: 1, 5713: 1, 3090: 1, 3208: 1, 3486: 1, 4564: 1, 3674: 1, 6061: 1, 5708: 1, 5521: 1, 5017: 1, 2636: 1, 6655: 1, 3966: 1, 5520: 1, 4942: 1, 4314: 1, 4327: 1, 4404: 1, 4572: 1, 5649: 1, 4310: 1, 3177: 1, 4223: 1, 4921: 1, 4886: 1, 4943: 1, 3385: 1, 2931: 1, 4080: 1, 3347: 1, 4851: 1, 89: 1, 2597: 1, 2775: 1, 2872: 1, 2933: 1, 84: 1, 3217: 1, 5298: 1, 5244: 1, 112: 1, 38: 1, 5734: 1, 3989: 1, 5186: 1, 12256: 1, 5419: 1, 4160: 1, 3696: 1, 4097: 1, 11872: 1, 13335: 1, 3747: 1, 5553: 1, 4802: 1, 5722: 1, 3733: 1, 3262: 1, 4426: 1, 4161: 1, 4001: 1, 6177: 1, 5537: 1, 4860: 1, 5356: 1, 2268: 1, 4975: 1, 3273: 1, 3211: 1, 3182: 1, 4082: 1, 4204: 1, 5549: 1, 7087: 1, 3189: 1, 3284: 1, 5466: 1, 4234: 1, 4504: 1, 143: 1, 4259: 1, 4479: 1, 3447: 1, 3964: 1, 4518: 1, 3179: 1, 5544: 1, 5202: 1, 3239: 1, 5429: 1, 5266: 1, 2987: 1, 4119: 1, 5077: 1, 4075: 1, 4323: 1, 4231: 1, 3789: 1, 4864: 1, 2772: 1, 4379: 1, 5714: 1, 3517: 1, 4246: 1, 5339: 1, 4471: 1, 3390: 1, 3368: 1, 4317: 1, 4373: 1, 4322: 1, 5388: 1, 4918: 1, 3739: 1, 99: 1, 3975: 1, 5071: 1, 5530: 1, 100: 1, 3513: 1, 4300: 1, 3082: 1, 5374: 1, 4763: 1, 3112: 1, 5318: 1, 4024: 1, 3956: 1, 5341: 1, 3780: 1, 3843: 1, 4643: 1, 5148: 1, 2639: 1, 5597: 1, 5506: 1, 3768: 1, 4037: 1, 4715: 1, 2620: 1, 132: 1, 3363: 1, 4214: 1, 105: 1, 4659: 1, 4709: 1, 4283: 1, 5759: 1, 4667: 1, 4689: 1, 2447: 1, 5073: 1, 4734: 1, 4606: 1, 3901: 1, 4981: 1, 5560: 1, 3899: 1, 170: 1, 5401: 1, 4290: 1, 4724: 1, 3564: 1, 3590: 1, 5761: 1, 5586: 1, 4403: 1, 2287: 1, 4727: 1, 6034: 1, 4390: 1, 4316: 1, 3991: 1, 3503: 1, 5327: 1, 3175: 1, 4844: 1, 1984: 1, 5323: 1, 5242: 1, 5615: 1, 5143: 1, 5390: 1, 2318: 1, 5527: 1, 3000: 1, 3855: 1, 4454: 1, 5430: 1, 4567: 1, 3934: 1, 4062: 1, 4418: 1, 3711: 1, 5710: 1, 5282: 1, 3113: 1, 4029: 1, 2506: 1, 5602: 1, 3953: 1, 3942: 1, 3576: 1, 4824: 1, 110: 1, 5642: 1, 4318: 1, 5475: 1, 5873: 1, 5304: 1, 12070: 1, 4163: 1, 4590: 1, 3129: 1, 5383: 1, 4376: 1, 3350: 1, 5119: 1, 46: 1, 3509: 1, 4320: 1, 4519: 1, 4232: 1, 4719: 1, 5087: 1, 5189: 1, 4429: 1, 3391: 1, 4241: 1, 4807: 1, 3650: 1, 5386: 1, 3308: 1, 5821: 1, 3687: 1, 3131: 1, 3607: 1, 4783: 1, 5314: 1, 4304: 1, 4000: 1, 4453: 1, 3828: 1, 5109: 1, 4359: 1, 3543: 1, 5209: 1, 5550: 1, 5953: 1, 5423: 1, 4438: 1, 4168: 1, 5823: 1, 83: 1, 4795: 1, 3719: 1, 4962: 1, 5569: 1, 5853: 1, 2505: 1, 4694: 1, 82: 1, 3994: 1, 5164: 1, 5930: 1, 2621: 1, 5811: 1, 4276: 1, 5154: 1, 9134: 1, 4827: 1, 5492: 1, 5389: 1, 3468: 1, 5355: 1, 4976: 1, 4639: 1, 2367: 1, 3732: 1, 3216: 1, 3242: 1, 4350: 1, 2831: 1, 4631: 1, 4853: 1, 3478: 1, 4525: 1, 3810: 1, 8388: 1, 4584: 1, 4666: 1, 5041: 1, 4846: 1, 4701: 1, 4480: 1, 5578: 1, 4206: 1, 5215: 1, 4788: 1, 4646: 1, 4956: 1, 4682: 1, 5093: 1, 5403: 1, 3605: 1, 5173: 1, 4660: 1, 2953: 1, 3510: 1, 3893: 1, 4312: 1, 4011: 1, 3546: 1, 5887: 1, 5067: 1, 4112: 1, 140: 1, 4672: 1, 3128: 1, 4111: 1, 4520: 1, 4638: 1, 4994: 1, 4107: 1, 5332: 1, 4199: 1, 3954: 1, 3752: 1, 2525: 1, 2407: 1, 4561: 1, 3085: 1, 126: 1, 5691: 1, 4969: 1, 3265: 1, 4676: 1, 5907: 1, 4900: 1, 5054: 1, 5001: 1, 5006: 1, 4549: 1, 4305: 1, 4575: 1, 2806: 1, 4736: 1, 5753: 1, 3835: 1, 4735: 1, 5498: 1, 6169: 1, 4365: 1, 2672: 1, 3314: 1, 3068: 1, 4740: 1, 4636: 1, 5210: 1, 3108: 1, 4671: 1, 4892: 1, 2868: 1, 5773: 1, 5820: 1, 5457: 1, 5587: 1, 4362: 1, 4905: 1, 3351: 1, 3443: 1, 5121: 1, 3736: 1, 6501: 1, 5366: 1, 4637: 1, 4098: 1, 4748: 1, 2654: 1, 4366: 1, 5411: 1, 3571: 1, 4920: 1, 3914: 1, 5013: 1, 5564: 1, 3659: 1, 2994: 1, 3440: 1, 2890: 1, 5794: 1, 5605: 1, 5397: 1, 5180: 1, 5335: 1, 68: 1, 6296: 1, 4207: 1, 3898: 1, 3955: 1, 3378: 1, 3442: 1, 2904: 1, 3963: 1, 3501: 1, 5302: 1, 4057: 1, 5603: 1, 2586: 1, 3614: 1, 3588: 1, 4978: 1, 5129: 1, 4177: 1, 4869: 1, 6580: 1, 5227: 1, 2727: 1, 6378: 1, 4044: 1, 3412: 1})\n",
      "Zero-length reviews: 0\n",
      "Maximum review length: 13335\n",
      "Number of reviews before removing outliers:  50000\n",
      "[] index of review with 0 length\n"
     ]
    }
   ],
   "source": [
    "#FINDING REVIEW LENGTHS\n",
    "review_length = Counter([len(x) for x in data[\"review\"].values])\n",
    "print(review_length)\n",
    "print(\"Zero-length reviews: {}\".format(review_length[0]))\n",
    "print(\"Maximum review length: {}\".format(max(review_length)))\n",
    "print('Number of reviews before removing outliers: ', len(data['review']))\n",
    "zero_idx = [ii for ii, review in enumerate(data.review) if len(review)==0]\n",
    "print(zero_idx,\"index of review with 0 length\")"
   ]
  },
  {
   "cell_type": "code",
   "execution_count": 15,
   "metadata": {
    "colab": {
     "base_uri": "https://localhost:8080/"
    },
    "id": "4Un-EjpXSw1g",
    "outputId": "94fef165-771e-4acb-a5f5-6b7000a9315a"
   },
   "outputs": [
    {
     "name": "stderr",
     "output_type": "stream",
     "text": [
      "[nltk_data] Downloading collection 'all'\n",
      "[nltk_data]    | \n",
      "[nltk_data]    | Downloading package abc to\n",
      "[nltk_data]    |     C:\\Users\\sakovv\\AppData\\Roaming\\nltk_data...\n",
      "[nltk_data]    |   Unzipping corpora\\abc.zip.\n",
      "[nltk_data]    | Downloading package alpino to\n",
      "[nltk_data]    |     C:\\Users\\sakovv\\AppData\\Roaming\\nltk_data...\n",
      "[nltk_data]    |   Unzipping corpora\\alpino.zip.\n",
      "[nltk_data]    | Downloading package averaged_perceptron_tagger to\n",
      "[nltk_data]    |     C:\\Users\\sakovv\\AppData\\Roaming\\nltk_data...\n",
      "[nltk_data]    |   Unzipping taggers\\averaged_perceptron_tagger.zip.\n",
      "[nltk_data]    | Downloading package averaged_perceptron_tagger_ru to\n",
      "[nltk_data]    |     C:\\Users\\sakovv\\AppData\\Roaming\\nltk_data...\n",
      "[nltk_data]    |   Unzipping\n",
      "[nltk_data]    |       taggers\\averaged_perceptron_tagger_ru.zip.\n",
      "[nltk_data]    | Downloading package basque_grammars to\n",
      "[nltk_data]    |     C:\\Users\\sakovv\\AppData\\Roaming\\nltk_data...\n",
      "[nltk_data]    |   Unzipping grammars\\basque_grammars.zip.\n",
      "[nltk_data]    | Downloading package biocreative_ppi to\n",
      "[nltk_data]    |     C:\\Users\\sakovv\\AppData\\Roaming\\nltk_data...\n",
      "[nltk_data]    |   Unzipping corpora\\biocreative_ppi.zip.\n",
      "[nltk_data]    | Downloading package bllip_wsj_no_aux to\n",
      "[nltk_data]    |     C:\\Users\\sakovv\\AppData\\Roaming\\nltk_data...\n",
      "[nltk_data]    |   Unzipping models\\bllip_wsj_no_aux.zip.\n",
      "[nltk_data]    | Downloading package book_grammars to\n",
      "[nltk_data]    |     C:\\Users\\sakovv\\AppData\\Roaming\\nltk_data...\n",
      "[nltk_data]    |   Unzipping grammars\\book_grammars.zip.\n",
      "[nltk_data]    | Downloading package brown to\n",
      "[nltk_data]    |     C:\\Users\\sakovv\\AppData\\Roaming\\nltk_data...\n",
      "[nltk_data]    |   Unzipping corpora\\brown.zip.\n",
      "[nltk_data]    | Downloading package brown_tei to\n",
      "[nltk_data]    |     C:\\Users\\sakovv\\AppData\\Roaming\\nltk_data...\n",
      "[nltk_data]    |   Unzipping corpora\\brown_tei.zip.\n",
      "[nltk_data]    | Downloading package cess_cat to\n",
      "[nltk_data]    |     C:\\Users\\sakovv\\AppData\\Roaming\\nltk_data...\n",
      "[nltk_data]    |   Unzipping corpora\\cess_cat.zip.\n",
      "[nltk_data]    | Downloading package cess_esp to\n",
      "[nltk_data]    |     C:\\Users\\sakovv\\AppData\\Roaming\\nltk_data...\n",
      "[nltk_data]    |   Unzipping corpora\\cess_esp.zip.\n",
      "[nltk_data]    | Downloading package chat80 to\n",
      "[nltk_data]    |     C:\\Users\\sakovv\\AppData\\Roaming\\nltk_data...\n",
      "[nltk_data]    |   Unzipping corpora\\chat80.zip.\n",
      "[nltk_data]    | Downloading package city_database to\n",
      "[nltk_data]    |     C:\\Users\\sakovv\\AppData\\Roaming\\nltk_data...\n",
      "[nltk_data]    |   Unzipping corpora\\city_database.zip.\n",
      "[nltk_data]    | Downloading package cmudict to\n",
      "[nltk_data]    |     C:\\Users\\sakovv\\AppData\\Roaming\\nltk_data...\n",
      "[nltk_data]    |   Unzipping corpora\\cmudict.zip.\n",
      "[nltk_data]    | Downloading package comparative_sentences to\n",
      "[nltk_data]    |     C:\\Users\\sakovv\\AppData\\Roaming\\nltk_data...\n",
      "[nltk_data]    |   Unzipping corpora\\comparative_sentences.zip.\n",
      "[nltk_data]    | Downloading package comtrans to\n",
      "[nltk_data]    |     C:\\Users\\sakovv\\AppData\\Roaming\\nltk_data...\n",
      "[nltk_data]    | Downloading package conll2000 to\n",
      "[nltk_data]    |     C:\\Users\\sakovv\\AppData\\Roaming\\nltk_data...\n",
      "[nltk_data]    |   Unzipping corpora\\conll2000.zip.\n",
      "[nltk_data]    | Downloading package conll2002 to\n",
      "[nltk_data]    |     C:\\Users\\sakovv\\AppData\\Roaming\\nltk_data...\n",
      "[nltk_data]    |   Unzipping corpora\\conll2002.zip.\n",
      "[nltk_data]    | Downloading package conll2007 to\n",
      "[nltk_data]    |     C:\\Users\\sakovv\\AppData\\Roaming\\nltk_data...\n",
      "[nltk_data]    | Downloading package crubadan to\n",
      "[nltk_data]    |     C:\\Users\\sakovv\\AppData\\Roaming\\nltk_data...\n",
      "[nltk_data]    |   Unzipping corpora\\crubadan.zip.\n",
      "[nltk_data]    | Downloading package dependency_treebank to\n",
      "[nltk_data]    |     C:\\Users\\sakovv\\AppData\\Roaming\\nltk_data...\n",
      "[nltk_data]    |   Unzipping corpora\\dependency_treebank.zip.\n",
      "[nltk_data]    | Downloading package dolch to\n",
      "[nltk_data]    |     C:\\Users\\sakovv\\AppData\\Roaming\\nltk_data...\n",
      "[nltk_data]    |   Unzipping corpora\\dolch.zip.\n",
      "[nltk_data]    | Downloading package europarl_raw to\n",
      "[nltk_data]    |     C:\\Users\\sakovv\\AppData\\Roaming\\nltk_data...\n",
      "[nltk_data]    |   Unzipping corpora\\europarl_raw.zip.\n",
      "[nltk_data]    | Downloading package extended_omw to\n",
      "[nltk_data]    |     C:\\Users\\sakovv\\AppData\\Roaming\\nltk_data...\n",
      "[nltk_data]    | Downloading package floresta to\n",
      "[nltk_data]    |     C:\\Users\\sakovv\\AppData\\Roaming\\nltk_data...\n",
      "[nltk_data]    |   Unzipping corpora\\floresta.zip.\n",
      "[nltk_data]    | Downloading package framenet_v15 to\n",
      "[nltk_data]    |     C:\\Users\\sakovv\\AppData\\Roaming\\nltk_data...\n",
      "[nltk_data]    |   Unzipping corpora\\framenet_v15.zip.\n",
      "[nltk_data]    | Downloading package framenet_v17 to\n",
      "[nltk_data]    |     C:\\Users\\sakovv\\AppData\\Roaming\\nltk_data...\n",
      "[nltk_data]    |   Unzipping corpora\\framenet_v17.zip.\n",
      "[nltk_data]    | Downloading package gazetteers to\n",
      "[nltk_data]    |     C:\\Users\\sakovv\\AppData\\Roaming\\nltk_data...\n",
      "[nltk_data]    |   Unzipping corpora\\gazetteers.zip.\n",
      "[nltk_data]    | Downloading package genesis to\n",
      "[nltk_data]    |     C:\\Users\\sakovv\\AppData\\Roaming\\nltk_data...\n",
      "[nltk_data]    |   Unzipping corpora\\genesis.zip.\n",
      "[nltk_data]    | Downloading package gutenberg to\n",
      "[nltk_data]    |     C:\\Users\\sakovv\\AppData\\Roaming\\nltk_data...\n",
      "[nltk_data]    |   Unzipping corpora\\gutenberg.zip.\n",
      "[nltk_data]    | Downloading package ieer to\n",
      "[nltk_data]    |     C:\\Users\\sakovv\\AppData\\Roaming\\nltk_data...\n",
      "[nltk_data]    |   Unzipping corpora\\ieer.zip.\n",
      "[nltk_data]    | Downloading package inaugural to\n",
      "[nltk_data]    |     C:\\Users\\sakovv\\AppData\\Roaming\\nltk_data...\n",
      "[nltk_data]    |   Unzipping corpora\\inaugural.zip.\n",
      "[nltk_data]    | Downloading package indian to\n",
      "[nltk_data]    |     C:\\Users\\sakovv\\AppData\\Roaming\\nltk_data...\n",
      "[nltk_data]    |   Unzipping corpora\\indian.zip.\n",
      "[nltk_data]    | Downloading package jeita to\n",
      "[nltk_data]    |     C:\\Users\\sakovv\\AppData\\Roaming\\nltk_data...\n",
      "[nltk_data]    | Downloading package kimmo to\n",
      "[nltk_data]    |     C:\\Users\\sakovv\\AppData\\Roaming\\nltk_data...\n",
      "[nltk_data]    |   Unzipping corpora\\kimmo.zip.\n",
      "[nltk_data]    | Downloading package knbc to\n",
      "[nltk_data]    |     C:\\Users\\sakovv\\AppData\\Roaming\\nltk_data...\n",
      "[nltk_data]    | Downloading package large_grammars to\n",
      "[nltk_data]    |     C:\\Users\\sakovv\\AppData\\Roaming\\nltk_data...\n",
      "[nltk_data]    |   Unzipping grammars\\large_grammars.zip.\n",
      "[nltk_data]    | Downloading package lin_thesaurus to\n",
      "[nltk_data]    |     C:\\Users\\sakovv\\AppData\\Roaming\\nltk_data...\n",
      "[nltk_data]    |   Unzipping corpora\\lin_thesaurus.zip.\n",
      "[nltk_data]    | Downloading package mac_morpho to\n",
      "[nltk_data]    |     C:\\Users\\sakovv\\AppData\\Roaming\\nltk_data...\n",
      "[nltk_data]    |   Unzipping corpora\\mac_morpho.zip.\n",
      "[nltk_data]    | Downloading package machado to\n",
      "[nltk_data]    |     C:\\Users\\sakovv\\AppData\\Roaming\\nltk_data...\n",
      "[nltk_data]    | Downloading package masc_tagged to\n",
      "[nltk_data]    |     C:\\Users\\sakovv\\AppData\\Roaming\\nltk_data...\n",
      "[nltk_data]    | Downloading package maxent_ne_chunker to\n",
      "[nltk_data]    |     C:\\Users\\sakovv\\AppData\\Roaming\\nltk_data...\n",
      "[nltk_data]    |   Unzipping chunkers\\maxent_ne_chunker.zip.\n",
      "[nltk_data]    | Downloading package maxent_treebank_pos_tagger to\n",
      "[nltk_data]    |     C:\\Users\\sakovv\\AppData\\Roaming\\nltk_data...\n",
      "[nltk_data]    |   Unzipping taggers\\maxent_treebank_pos_tagger.zip.\n",
      "[nltk_data]    | Downloading package moses_sample to\n",
      "[nltk_data]    |     C:\\Users\\sakovv\\AppData\\Roaming\\nltk_data...\n",
      "[nltk_data]    |   Unzipping models\\moses_sample.zip.\n",
      "[nltk_data]    | Downloading package movie_reviews to\n",
      "[nltk_data]    |     C:\\Users\\sakovv\\AppData\\Roaming\\nltk_data...\n",
      "[nltk_data]    |   Unzipping corpora\\movie_reviews.zip.\n",
      "[nltk_data]    | Downloading package mte_teip5 to\n",
      "[nltk_data]    |     C:\\Users\\sakovv\\AppData\\Roaming\\nltk_data...\n",
      "[nltk_data]    |   Unzipping corpora\\mte_teip5.zip.\n",
      "[nltk_data]    | Downloading package mwa_ppdb to\n",
      "[nltk_data]    |     C:\\Users\\sakovv\\AppData\\Roaming\\nltk_data...\n",
      "[nltk_data]    |   Unzipping misc\\mwa_ppdb.zip.\n",
      "[nltk_data]    | Downloading package names to\n",
      "[nltk_data]    |     C:\\Users\\sakovv\\AppData\\Roaming\\nltk_data...\n",
      "[nltk_data]    |   Unzipping corpora\\names.zip.\n",
      "[nltk_data]    | Downloading package nombank.1.0 to\n",
      "[nltk_data]    |     C:\\Users\\sakovv\\AppData\\Roaming\\nltk_data...\n",
      "[nltk_data]    | Downloading package nonbreaking_prefixes to\n",
      "[nltk_data]    |     C:\\Users\\sakovv\\AppData\\Roaming\\nltk_data...\n",
      "[nltk_data]    |   Unzipping corpora\\nonbreaking_prefixes.zip.\n",
      "[nltk_data]    | Downloading package nps_chat to\n",
      "[nltk_data]    |     C:\\Users\\sakovv\\AppData\\Roaming\\nltk_data...\n",
      "[nltk_data]    |   Unzipping corpora\\nps_chat.zip.\n",
      "[nltk_data]    | Downloading package omw to\n",
      "[nltk_data]    |     C:\\Users\\sakovv\\AppData\\Roaming\\nltk_data...\n",
      "[nltk_data]    | Downloading package omw-1.4 to\n",
      "[nltk_data]    |     C:\\Users\\sakovv\\AppData\\Roaming\\nltk_data...\n",
      "[nltk_data]    | Downloading package opinion_lexicon to\n",
      "[nltk_data]    |     C:\\Users\\sakovv\\AppData\\Roaming\\nltk_data...\n",
      "[nltk_data]    |   Unzipping corpora\\opinion_lexicon.zip.\n",
      "[nltk_data]    | Downloading package panlex_swadesh to\n",
      "[nltk_data]    |     C:\\Users\\sakovv\\AppData\\Roaming\\nltk_data...\n",
      "[nltk_data]    | Downloading package paradigms to\n",
      "[nltk_data]    |     C:\\Users\\sakovv\\AppData\\Roaming\\nltk_data...\n",
      "[nltk_data]    |   Unzipping corpora\\paradigms.zip.\n",
      "[nltk_data]    | Downloading package pe08 to\n",
      "[nltk_data]    |     C:\\Users\\sakovv\\AppData\\Roaming\\nltk_data...\n",
      "[nltk_data]    |   Unzipping corpora\\pe08.zip.\n",
      "[nltk_data]    | Downloading package perluniprops to\n",
      "[nltk_data]    |     C:\\Users\\sakovv\\AppData\\Roaming\\nltk_data...\n",
      "[nltk_data]    |   Unzipping misc\\perluniprops.zip.\n",
      "[nltk_data]    | Downloading package pil to\n",
      "[nltk_data]    |     C:\\Users\\sakovv\\AppData\\Roaming\\nltk_data...\n",
      "[nltk_data]    |   Unzipping corpora\\pil.zip.\n",
      "[nltk_data]    | Downloading package pl196x to\n",
      "[nltk_data]    |     C:\\Users\\sakovv\\AppData\\Roaming\\nltk_data...\n",
      "[nltk_data]    |   Unzipping corpora\\pl196x.zip.\n",
      "[nltk_data]    | Downloading package porter_test to\n",
      "[nltk_data]    |     C:\\Users\\sakovv\\AppData\\Roaming\\nltk_data...\n",
      "[nltk_data]    |   Unzipping stemmers\\porter_test.zip.\n",
      "[nltk_data]    | Downloading package ppattach to\n",
      "[nltk_data]    |     C:\\Users\\sakovv\\AppData\\Roaming\\nltk_data...\n",
      "[nltk_data]    |   Unzipping corpora\\ppattach.zip.\n",
      "[nltk_data]    | Downloading package problem_reports to\n",
      "[nltk_data]    |     C:\\Users\\sakovv\\AppData\\Roaming\\nltk_data...\n",
      "[nltk_data]    |   Unzipping corpora\\problem_reports.zip.\n",
      "[nltk_data]    | Downloading package product_reviews_1 to\n",
      "[nltk_data]    |     C:\\Users\\sakovv\\AppData\\Roaming\\nltk_data...\n",
      "[nltk_data]    |   Unzipping corpora\\product_reviews_1.zip.\n",
      "[nltk_data]    | Downloading package product_reviews_2 to\n",
      "[nltk_data]    |     C:\\Users\\sakovv\\AppData\\Roaming\\nltk_data...\n",
      "[nltk_data]    |   Unzipping corpora\\product_reviews_2.zip.\n",
      "[nltk_data]    | Downloading package propbank to\n",
      "[nltk_data]    |     C:\\Users\\sakovv\\AppData\\Roaming\\nltk_data...\n",
      "[nltk_data]    | Downloading package pros_cons to\n",
      "[nltk_data]    |     C:\\Users\\sakovv\\AppData\\Roaming\\nltk_data...\n",
      "[nltk_data]    |   Unzipping corpora\\pros_cons.zip.\n",
      "[nltk_data]    | Downloading package ptb to\n",
      "[nltk_data]    |     C:\\Users\\sakovv\\AppData\\Roaming\\nltk_data...\n",
      "[nltk_data]    |   Unzipping corpora\\ptb.zip.\n",
      "[nltk_data]    | Downloading package punkt to\n",
      "[nltk_data]    |     C:\\Users\\sakovv\\AppData\\Roaming\\nltk_data...\n",
      "[nltk_data]    |   Unzipping tokenizers\\punkt.zip.\n",
      "[nltk_data]    | Downloading package qc to\n",
      "[nltk_data]    |     C:\\Users\\sakovv\\AppData\\Roaming\\nltk_data...\n",
      "[nltk_data]    |   Unzipping corpora\\qc.zip.\n",
      "[nltk_data]    | Downloading package reuters to\n",
      "[nltk_data]    |     C:\\Users\\sakovv\\AppData\\Roaming\\nltk_data...\n",
      "[nltk_data]    | Downloading package rslp to\n",
      "[nltk_data]    |     C:\\Users\\sakovv\\AppData\\Roaming\\nltk_data...\n",
      "[nltk_data]    |   Unzipping stemmers\\rslp.zip.\n",
      "[nltk_data]    | Downloading package rte to\n",
      "[nltk_data]    |     C:\\Users\\sakovv\\AppData\\Roaming\\nltk_data...\n",
      "[nltk_data]    |   Unzipping corpora\\rte.zip.\n",
      "[nltk_data]    | Downloading package sample_grammars to\n",
      "[nltk_data]    |     C:\\Users\\sakovv\\AppData\\Roaming\\nltk_data...\n",
      "[nltk_data]    |   Unzipping grammars\\sample_grammars.zip.\n",
      "[nltk_data]    | Downloading package semcor to\n",
      "[nltk_data]    |     C:\\Users\\sakovv\\AppData\\Roaming\\nltk_data...\n",
      "[nltk_data]    | Downloading package senseval to\n",
      "[nltk_data]    |     C:\\Users\\sakovv\\AppData\\Roaming\\nltk_data...\n",
      "[nltk_data]    |   Unzipping corpora\\senseval.zip.\n",
      "[nltk_data]    | Downloading package sentence_polarity to\n",
      "[nltk_data]    |     C:\\Users\\sakovv\\AppData\\Roaming\\nltk_data...\n",
      "[nltk_data]    |   Unzipping corpora\\sentence_polarity.zip.\n",
      "[nltk_data]    | Downloading package sentiwordnet to\n",
      "[nltk_data]    |     C:\\Users\\sakovv\\AppData\\Roaming\\nltk_data...\n",
      "[nltk_data]    |   Unzipping corpora\\sentiwordnet.zip.\n",
      "[nltk_data]    | Downloading package shakespeare to\n",
      "[nltk_data]    |     C:\\Users\\sakovv\\AppData\\Roaming\\nltk_data...\n",
      "[nltk_data]    |   Unzipping corpora\\shakespeare.zip.\n",
      "[nltk_data]    | Downloading package sinica_treebank to\n",
      "[nltk_data]    |     C:\\Users\\sakovv\\AppData\\Roaming\\nltk_data...\n",
      "[nltk_data]    |   Unzipping corpora\\sinica_treebank.zip.\n",
      "[nltk_data]    | Downloading package smultron to\n",
      "[nltk_data]    |     C:\\Users\\sakovv\\AppData\\Roaming\\nltk_data...\n",
      "[nltk_data]    |   Unzipping corpora\\smultron.zip.\n",
      "[nltk_data]    | Downloading package snowball_data to\n",
      "[nltk_data]    |     C:\\Users\\sakovv\\AppData\\Roaming\\nltk_data...\n",
      "[nltk_data]    | Downloading package spanish_grammars to\n",
      "[nltk_data]    |     C:\\Users\\sakovv\\AppData\\Roaming\\nltk_data...\n",
      "[nltk_data]    |   Unzipping grammars\\spanish_grammars.zip.\n",
      "[nltk_data]    | Downloading package state_union to\n",
      "[nltk_data]    |     C:\\Users\\sakovv\\AppData\\Roaming\\nltk_data...\n",
      "[nltk_data]    |   Unzipping corpora\\state_union.zip.\n",
      "[nltk_data]    | Downloading package stopwords to\n",
      "[nltk_data]    |     C:\\Users\\sakovv\\AppData\\Roaming\\nltk_data...\n",
      "[nltk_data]    |   Package stopwords is already up-to-date!\n",
      "[nltk_data]    | Downloading package subjectivity to\n",
      "[nltk_data]    |     C:\\Users\\sakovv\\AppData\\Roaming\\nltk_data...\n",
      "[nltk_data]    |   Unzipping corpora\\subjectivity.zip.\n",
      "[nltk_data]    | Downloading package swadesh to\n",
      "[nltk_data]    |     C:\\Users\\sakovv\\AppData\\Roaming\\nltk_data...\n",
      "[nltk_data]    |   Unzipping corpora\\swadesh.zip.\n",
      "[nltk_data]    | Downloading package switchboard to\n",
      "[nltk_data]    |     C:\\Users\\sakovv\\AppData\\Roaming\\nltk_data...\n",
      "[nltk_data]    |   Unzipping corpora\\switchboard.zip.\n",
      "[nltk_data]    | Downloading package tagsets to\n",
      "[nltk_data]    |     C:\\Users\\sakovv\\AppData\\Roaming\\nltk_data...\n",
      "[nltk_data]    |   Unzipping help\\tagsets.zip.\n",
      "[nltk_data]    | Downloading package timit to\n",
      "[nltk_data]    |     C:\\Users\\sakovv\\AppData\\Roaming\\nltk_data...\n",
      "[nltk_data]    |   Unzipping corpora\\timit.zip.\n",
      "[nltk_data]    | Downloading package toolbox to\n",
      "[nltk_data]    |     C:\\Users\\sakovv\\AppData\\Roaming\\nltk_data...\n",
      "[nltk_data]    |   Unzipping corpora\\toolbox.zip.\n",
      "[nltk_data]    | Downloading package treebank to\n",
      "[nltk_data]    |     C:\\Users\\sakovv\\AppData\\Roaming\\nltk_data...\n",
      "[nltk_data]    |   Unzipping corpora\\treebank.zip.\n",
      "[nltk_data]    | Downloading package twitter_samples to\n",
      "[nltk_data]    |     C:\\Users\\sakovv\\AppData\\Roaming\\nltk_data...\n",
      "[nltk_data]    |   Unzipping corpora\\twitter_samples.zip.\n",
      "[nltk_data]    | Downloading package udhr to\n",
      "[nltk_data]    |     C:\\Users\\sakovv\\AppData\\Roaming\\nltk_data...\n",
      "[nltk_data]    |   Unzipping corpora\\udhr.zip.\n",
      "[nltk_data]    | Downloading package udhr2 to\n",
      "[nltk_data]    |     C:\\Users\\sakovv\\AppData\\Roaming\\nltk_data...\n",
      "[nltk_data]    |   Unzipping corpora\\udhr2.zip.\n",
      "[nltk_data]    | Downloading package unicode_samples to\n",
      "[nltk_data]    |     C:\\Users\\sakovv\\AppData\\Roaming\\nltk_data...\n",
      "[nltk_data]    |   Unzipping corpora\\unicode_samples.zip.\n",
      "[nltk_data]    | Downloading package universal_tagset to\n",
      "[nltk_data]    |     C:\\Users\\sakovv\\AppData\\Roaming\\nltk_data...\n",
      "[nltk_data]    |   Unzipping taggers\\universal_tagset.zip.\n",
      "[nltk_data]    | Downloading package universal_treebanks_v20 to\n",
      "[nltk_data]    |     C:\\Users\\sakovv\\AppData\\Roaming\\nltk_data...\n",
      "[nltk_data]    | Downloading package vader_lexicon to\n",
      "[nltk_data]    |     C:\\Users\\sakovv\\AppData\\Roaming\\nltk_data...\n",
      "[nltk_data]    | Downloading package verbnet to\n",
      "[nltk_data]    |     C:\\Users\\sakovv\\AppData\\Roaming\\nltk_data...\n",
      "[nltk_data]    |   Unzipping corpora\\verbnet.zip.\n",
      "[nltk_data]    | Downloading package verbnet3 to\n",
      "[nltk_data]    |     C:\\Users\\sakovv\\AppData\\Roaming\\nltk_data...\n",
      "[nltk_data]    |   Unzipping corpora\\verbnet3.zip.\n",
      "[nltk_data]    | Downloading package webtext to\n",
      "[nltk_data]    |     C:\\Users\\sakovv\\AppData\\Roaming\\nltk_data...\n",
      "[nltk_data]    |   Unzipping corpora\\webtext.zip.\n",
      "[nltk_data]    | Downloading package wmt15_eval to\n",
      "[nltk_data]    |     C:\\Users\\sakovv\\AppData\\Roaming\\nltk_data...\n",
      "[nltk_data]    |   Unzipping models\\wmt15_eval.zip.\n",
      "[nltk_data]    | Downloading package word2vec_sample to\n",
      "[nltk_data]    |     C:\\Users\\sakovv\\AppData\\Roaming\\nltk_data...\n",
      "[nltk_data]    |   Unzipping models\\word2vec_sample.zip.\n",
      "[nltk_data]    | Downloading package wordnet to\n",
      "[nltk_data]    |     C:\\Users\\sakovv\\AppData\\Roaming\\nltk_data...\n",
      "[nltk_data]    | Downloading package wordnet2021 to\n",
      "[nltk_data]    |     C:\\Users\\sakovv\\AppData\\Roaming\\nltk_data...\n",
      "[nltk_data]    | Downloading package wordnet31 to\n",
      "[nltk_data]    |     C:\\Users\\sakovv\\AppData\\Roaming\\nltk_data...\n",
      "[nltk_data]    | Downloading package wordnet_ic to\n",
      "[nltk_data]    |     C:\\Users\\sakovv\\AppData\\Roaming\\nltk_data...\n",
      "[nltk_data]    |   Unzipping corpora\\wordnet_ic.zip.\n",
      "[nltk_data]    | Downloading package words to\n",
      "[nltk_data]    |     C:\\Users\\sakovv\\AppData\\Roaming\\nltk_data...\n",
      "[nltk_data]    |   Unzipping corpora\\words.zip.\n",
      "[nltk_data]    | Downloading package ycoe to\n",
      "[nltk_data]    |     C:\\Users\\sakovv\\AppData\\Roaming\\nltk_data...\n",
      "[nltk_data]    |   Unzipping corpora\\ycoe.zip.\n",
      "[nltk_data]    | \n",
      "[nltk_data]  Done downloading collection all\n"
     ]
    },
    {
     "data": {
      "text/plain": [
       "True"
      ]
     },
     "execution_count": 15,
     "metadata": {},
     "output_type": "execute_result"
    }
   ],
   "source": [
    "nltk.download(\"all\")"
   ]
  },
  {
   "cell_type": "code",
   "execution_count": 16,
   "metadata": {
    "colab": {
     "base_uri": "https://localhost:8080/"
    },
    "id": "lO93HYvxTQRf",
    "outputId": "ae5656bf-ca95-41e5-ea2b-478e163c9c08"
   },
   "outputs": [
    {
     "name": "stdout",
     "output_type": "stream",
     "text": [
      "['one', 'reviewers', 'mentioned', 'watching', 'one', 'oz', 'episode', 'youll', 'hooked', 'right', 'exactly', 'happened', 'methe', 'first', 'thing', 'struck', 'oz', 'brutality', 'unflinching', 'scenes', 'violence', 'set', 'right', 'word', 'go', 'trust', 'show', 'faint', 'hearted', 'timid', 'show', 'pulls', 'punches', 'regards', 'drugs', 'sex', 'violence', 'hardcore', 'classic', 'use', 'wordit', 'called', 'oz', 'nickname', 'given', 'oswald', 'maximum', 'security', 'state', 'penitentary', 'focuses', 'mainly', 'emerald', 'city', 'experimental', 'section', 'prison', 'cells', 'glass', 'fronts', 'face', 'inwards', 'privacy', 'high', 'agenda', 'em', 'city', 'home', 'manyaryans', 'muslims', 'gangstas', 'latinos', 'christians', 'italians', 'irish', 'moreso', 'scuffles', 'death', 'stares', 'dodgy', 'dealings', 'shady', 'agreements', 'never', 'far', 'awayi', 'would', 'say', 'main', 'appeal', 'show', 'due', 'fact', 'goes', 'shows', 'wouldnt', 'dare', 'forget', 'pretty', 'pictures', 'painted', 'mainstream', 'audiences', 'forget', 'charm', 'forget', 'romanceoz', 'doesnt', 'mess', 'around', 'first', 'episode', 'ever', 'saw', 'struck', 'nasty', 'surreal', 'couldnt', 'say', 'ready', 'watched', 'developed', 'taste', 'oz', 'got', 'accustomed', 'high', 'levels', 'graphic', 'violence', 'violence', 'injustice', 'crooked', 'guards', 'wholl', 'sold', 'nickel', 'inmates', 'wholl', 'kill', 'order', 'get', 'away', 'well', 'mannered', 'middle', 'class', 'inmates', 'turned', 'prison', 'bitches', 'due', 'lack', 'street', 'skills', 'prison', 'experience', 'watching', 'oz', 'may', 'become', 'comfortable', 'uncomfortable', 'viewingthats', 'get', 'touch', 'darker', 'side']\n"
     ]
    }
   ],
   "source": [
    "\n",
    "word_tokens = word_tokenize(data[\"review\"][0])\n",
    "filter_review= [w for w in word_tokens if not w in stop_words]\n",
    "print(filter_review)"
   ]
  },
  {
   "cell_type": "code",
   "execution_count": 17,
   "metadata": {
    "colab": {
     "base_uri": "https://localhost:8080/"
    },
    "id": "O1uthlO8X0kR",
    "outputId": "67c0ea84-1e21-428d-baac-dc417bb1c9e0"
   },
   "outputs": [
    {
     "name": "stdout",
     "output_type": "stream",
     "text": [
      "Sampling  <FreqDist with 142 samples and 168 outcomes>\n",
      "The first 3 frequently used tokens are\n"
     ]
    },
    {
     "data": {
      "text/plain": [
       "[('oz', 5),\n",
       " ('violence', 4),\n",
       " ('show', 3),\n",
       " ('prison', 3),\n",
       " ('forget', 3),\n",
       " ('one', 2),\n",
       " ('watching', 2),\n",
       " ('episode', 2),\n",
       " ('right', 2),\n",
       " ('first', 2)]"
      ]
     },
     "execution_count": 17,
     "metadata": {},
     "output_type": "execute_result"
    }
   ],
   "source": [
    "from nltk.probability import FreqDist\n",
    "fdist = FreqDist(filter_review)\n",
    "print('Sampling ', fdist)\n",
    "print('The first 3 frequently used tokens are')\n",
    "fdist.most_common(10)"
   ]
  },
  {
   "cell_type": "code",
   "execution_count": 18,
   "metadata": {
    "id": "QR3kHyyQYHRZ"
   },
   "outputs": [],
   "source": [
    "encodeedd = {\"sentiment\":{\"positive\": 1, \"negative\": 0}}"
   ]
  },
  {
   "cell_type": "code",
   "execution_count": 19,
   "metadata": {
    "id": "RR75h8OtYMeh"
   },
   "outputs": [],
   "source": [
    "data.replace(encodeedd, inplace=True)"
   ]
  },
  {
   "cell_type": "code",
   "execution_count": 20,
   "metadata": {
    "colab": {
     "base_uri": "https://localhost:8080/",
     "height": 424
    },
    "id": "oJEAagMeYR1-",
    "outputId": "bbac8bb8-3d03-4e58-9ff6-239fe6e631b6"
   },
   "outputs": [
    {
     "data": {
      "text/html": [
       "<div>\n",
       "<style scoped>\n",
       "    .dataframe tbody tr th:only-of-type {\n",
       "        vertical-align: middle;\n",
       "    }\n",
       "\n",
       "    .dataframe tbody tr th {\n",
       "        vertical-align: top;\n",
       "    }\n",
       "\n",
       "    .dataframe thead th {\n",
       "        text-align: right;\n",
       "    }\n",
       "</style>\n",
       "<table border=\"1\" class=\"dataframe\">\n",
       "  <thead>\n",
       "    <tr style=\"text-align: right;\">\n",
       "      <th></th>\n",
       "      <th>review</th>\n",
       "      <th>sentiment</th>\n",
       "    </tr>\n",
       "  </thead>\n",
       "  <tbody>\n",
       "    <tr>\n",
       "      <th>0</th>\n",
       "      <td>one of the other reviewers has mentioned that ...</td>\n",
       "      <td>1</td>\n",
       "    </tr>\n",
       "    <tr>\n",
       "      <th>1</th>\n",
       "      <td>a wonderful little production the filming tech...</td>\n",
       "      <td>1</td>\n",
       "    </tr>\n",
       "    <tr>\n",
       "      <th>2</th>\n",
       "      <td>i thought this was a wonderful way to spend ti...</td>\n",
       "      <td>1</td>\n",
       "    </tr>\n",
       "    <tr>\n",
       "      <th>3</th>\n",
       "      <td>basically theres a family where a little boy j...</td>\n",
       "      <td>0</td>\n",
       "    </tr>\n",
       "    <tr>\n",
       "      <th>4</th>\n",
       "      <td>petter matteis love in the time of money is a ...</td>\n",
       "      <td>1</td>\n",
       "    </tr>\n",
       "    <tr>\n",
       "      <th>...</th>\n",
       "      <td>...</td>\n",
       "      <td>...</td>\n",
       "    </tr>\n",
       "    <tr>\n",
       "      <th>49995</th>\n",
       "      <td>i thought this movie did a down right good job...</td>\n",
       "      <td>1</td>\n",
       "    </tr>\n",
       "    <tr>\n",
       "      <th>49996</th>\n",
       "      <td>bad plot bad dialogue bad acting idiotic direc...</td>\n",
       "      <td>0</td>\n",
       "    </tr>\n",
       "    <tr>\n",
       "      <th>49997</th>\n",
       "      <td>i am a catholic taught in parochial elementary...</td>\n",
       "      <td>0</td>\n",
       "    </tr>\n",
       "    <tr>\n",
       "      <th>49998</th>\n",
       "      <td>im going to have to disagree with the previous...</td>\n",
       "      <td>0</td>\n",
       "    </tr>\n",
       "    <tr>\n",
       "      <th>49999</th>\n",
       "      <td>no one expects the star trek movies to be high...</td>\n",
       "      <td>0</td>\n",
       "    </tr>\n",
       "  </tbody>\n",
       "</table>\n",
       "<p>50000 rows × 2 columns</p>\n",
       "</div>"
      ],
      "text/plain": [
       "                                                  review  sentiment\n",
       "0      one of the other reviewers has mentioned that ...          1\n",
       "1      a wonderful little production the filming tech...          1\n",
       "2      i thought this was a wonderful way to spend ti...          1\n",
       "3      basically theres a family where a little boy j...          0\n",
       "4      petter matteis love in the time of money is a ...          1\n",
       "...                                                  ...        ...\n",
       "49995  i thought this movie did a down right good job...          1\n",
       "49996  bad plot bad dialogue bad acting idiotic direc...          0\n",
       "49997  i am a catholic taught in parochial elementary...          0\n",
       "49998  im going to have to disagree with the previous...          0\n",
       "49999  no one expects the star trek movies to be high...          0\n",
       "\n",
       "[50000 rows x 2 columns]"
      ]
     },
     "execution_count": 20,
     "metadata": {},
     "output_type": "execute_result"
    }
   ],
   "source": [
    "data"
   ]
  },
  {
   "cell_type": "code",
   "execution_count": 21,
   "metadata": {
    "colab": {
     "base_uri": "https://localhost:8080/",
     "height": 265
    },
    "id": "Czv8XxgXYV_X",
    "outputId": "116a5fed-a236-4647-f297-9d2f19b8030d"
   },
   "outputs": [
    {
     "data": {
      "text/plain": [
       "<AxesSubplot:ylabel='sentiment'>"
      ]
     },
     "execution_count": 21,
     "metadata": {},
     "output_type": "execute_result"
    },
    {
     "data": {
      "image/png": "[encoded data removed]",
      "text/plain": [
       "<Figure size 432x288 with 1 Axes>"
      ]
     },
     "metadata": {},
     "output_type": "display_data"
    }
   ],
   "source": [
    "data.sentiment.value_counts().plot(kind='pie', autopct='%1.0f%%')"
   ]
  },
  {
   "cell_type": "code",
   "execution_count": 22,
   "metadata": {
    "colab": {
     "base_uri": "https://localhost:8080/",
     "height": 351
    },
    "id": "BLD4IMX4ZHBB",
    "outputId": "a9388a05-ca3b-43f5-9359-dd5514fbbd39"
   },
   "outputs": [
    {
     "name": "stderr",
     "output_type": "stream",
     "text": [
      "C:\\Users\\sakovv\\Anaconda3\\lib\\site-packages\\seaborn\\_decorators.py:36: FutureWarning: Pass the following variable as a keyword arg: x. From version 0.12, the only valid positional argument will be `data`, and passing other arguments without an explicit keyword will result in an error or misinterpretation.\n",
      "  warnings.warn(\n"
     ]
    },
    {
     "data": {
      "text/plain": [
       "<AxesSubplot:xlabel='sentiment', ylabel='count'>"
      ]
     },
     "execution_count": 22,
     "metadata": {},
     "output_type": "execute_result"
    },
    {
     "data": {
      "image/png": "[encoded data removed]",
      "text/plain": [
       "<Figure size 432x288 with 1 Axes>"
      ]
     },
     "metadata": {
      "needs_background": "light"
     },
     "output_type": "display_data"
    }
   ],
   "source": [
    "import seaborn as sns\n",
    "sns.countplot(data['sentiment'])"
   ]
  },
  {
   "cell_type": "code",
   "execution_count": 23,
   "metadata": {
    "id": "A7RjseBwZMHx"
   },
   "outputs": [],
   "source": [
    "from sklearn.model_selection import train_test_split\n",
    "from sklearn.feature_extraction.text import CountVectorizer\n",
    "from sklearn.feature_extraction.text import TfidfTransformer\n",
    "from sklearn.naive_bayes import MultinomialNB"
   ]
  },
  {
   "cell_type": "code",
   "execution_count": 24,
   "metadata": {
    "id": "y5gEQkNrZMNC"
   },
   "outputs": [],
   "source": [
    "#FIT INTO NAIVE-BAYES CLASSIFER,HERE WE USED THE MLTINOMIALNB\n",
    "X_train, X_test, y_train, y_test = train_test_split(data[\"review\"], data['sentiment'],test_size=0.3, random_state=42)\n",
    "count_vect = CountVectorizer()\n",
    "X_train_counts = count_vect.fit_transform(X_train)\n",
    "tfidf_transformer = TfidfTransformer()\n",
    "X_train_tfidf = tfidf_transformer.fit_transform(X_train_counts)\n",
    "clf = MultinomialNB().fit(X_train_tfidf, y_train)"
   ]
  },
  {
   "cell_type": "code",
   "execution_count": 25,
   "metadata": {
    "id": "J06mDpJPZqhN"
   },
   "outputs": [],
   "source": [
    "y_=clf.predict(count_vect.transform(X_test))"
   ]
  },
  {
   "cell_type": "code",
   "execution_count": 26,
   "metadata": {
    "id": "l8GpG7kTZrHt"
   },
   "outputs": [],
   "source": [
    "from sklearn.metrics import accuracy_score"
   ]
  },
  {
   "cell_type": "code",
   "execution_count": 27,
   "metadata": {
    "colab": {
     "base_uri": "https://localhost:8080/"
    },
    "id": "8e9uUxN1ZvlJ",
    "outputId": "a6b94608-8178-4a41-c22e-c0459081185c"
   },
   "outputs": [
    {
     "name": "stdout",
     "output_type": "stream",
     "text": [
      "Test accuracy\n",
      "83.46000000000001\n"
     ]
    }
   ],
   "source": [
    "print(\"Test accuracy\")\n",
    "o=accuracy_score(y_test, y_,normalize=True)\n",
    "print(o*100)"
   ]
  },
  {
   "cell_type": "code",
   "execution_count": 28,
   "metadata": {
    "colab": {
     "base_uri": "https://localhost:8080/"
    },
    "id": "3bk4rEebZxnP",
    "outputId": "0299e35c-e96b-433d-b147-78b6fb4bd022"
   },
   "outputs": [
    {
     "name": "stdout",
     "output_type": "stream",
     "text": [
      "              precision    recall  f1-score   support\n",
      "\n",
      "           0       0.78      0.93      0.85      7411\n",
      "           1       0.92      0.74      0.82      7589\n",
      "\n",
      "    accuracy                           0.83     15000\n",
      "   macro avg       0.85      0.84      0.83     15000\n",
      "weighted avg       0.85      0.83      0.83     15000\n",
      "\n"
     ]
    }
   ],
   "source": [
    "from sklearn.metrics import classification_report\n",
    "print(classification_report(y_test, y_))"
   ]
  },
  {
   "cell_type": "code",
   "execution_count": 29,
   "metadata": {
    "id": "RMgOI4ihZ4GG"
   },
   "outputs": [],
   "source": [
    "def NewRev():\n",
    "    newReview=input()\n",
    "    new_review = count_vect .transform([newReview]).toarray()  \n",
    "    prediction =clf.predict(new_review )\n",
    "    if(prediction[0]==1):\n",
    "        print(\"POSITIVE\")\n",
    "    else:\n",
    "        print(\"NEGATIVE\")"
   ]
  },
  {
   "cell_type": "code",
   "execution_count": 30,
   "metadata": {
    "colab": {
     "base_uri": "https://localhost:8080/"
    },
    "id": "FrWQIdX4aUyr",
    "outputId": "378eaafe-08ca-47e0-f7d4-b156074b7bbc"
   },
   "outputs": [
    {
     "name": "stdout",
     "output_type": "stream",
     "text": [
      "It was a great movie. Really Enjoyed watching it. Avengers-Endgame is really epic.\n",
      "POSITIVE\n"
     ]
    }
   ],
   "source": [
    "NewRev()"
   ]
  },
  {
   "cell_type": "code",
   "execution_count": 31,
   "metadata": {
    "colab": {
     "base_uri": "https://localhost:8080/"
    },
    "id": "XAtJiQ2Xa5aJ",
    "outputId": "ac243388-6c1f-48d3-ec19-dcfa9e8a76e4"
   },
   "outputs": [
    {
     "name": "stdout",
     "output_type": "stream",
     "text": [
      "With Huge disappointment and pain i would say this is the worst movie of ram charan and chiranjeevi's career.  Literally there is no story ,screenplay, and direction.  To Top it all BGM hits the final nail in the coffin.  Final Verdict : save your hard earned money\n",
      "NEGATIVE\n"
     ]
    }
   ],
   "source": [
    "NewRev()"
   ]
  },
  {
   "cell_type": "code",
   "execution_count": null,
   "metadata": {
    "id": "8HK2j_jWcmBd"
   },
   "outputs": [],
   "source": []
  }
 ],
 "metadata": {
  "colab": {
   "collapsed_sections": [],
   "name": " TCS ION RIO-45.ipynb",
   "provenance": []
  },
  "kernelspec": {
   "display_name": "Python 3 (ipykernel)",
   "language": "python",
   "name": "python3"
  },
  "language_info": {
   "codemirror_mode": {
    "name": "ipython",
    "version": 3
   },
   "file_extension": ".py",
   "mimetype": "text/x-python",
   "name": "python",
   "nbconvert_exporter": "python",
   "pygments_lexer": "ipython3",
   "version": "3.9.7"
  }
 },
 "nbformat": 4,
 "nbformat_minor": 1
}
